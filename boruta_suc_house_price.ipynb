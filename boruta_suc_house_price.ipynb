{
  "nbformat": 4,
  "nbformat_minor": 0,
  "metadata": {
    "colab": {
      "provenance": [],
      "authorship_tag": "ABX9TyMWgFbsUGrwPj+kyG6iB1z3",
      "include_colab_link": true
    },
    "kernelspec": {
      "name": "python3",
      "display_name": "Python 3"
    },
    "language_info": {
      "name": "python"
    }
  },
  "cells": [
    {
      "cell_type": "markdown",
      "metadata": {
        "id": "view-in-github",
        "colab_type": "text"
      },
      "source": [
        "<a href=\"https://colab.research.google.com/github/TomoharuKurosu/Tomoharu_DS2/blob/main/boruta_suc_house_price.ipynb\" target=\"_parent\"><img src=\"https://colab.research.google.com/assets/colab-badge.svg\" alt=\"Open In Colab\"/></a>"
      ]
    },
    {
      "cell_type": "code",
      "source": [
        "!pip install rdkit\n",
        "!pip install dcekit\n",
        "!pip install boruta"
      ],
      "metadata": {
        "colab": {
          "base_uri": "https://localhost:8080/"
        },
        "id": "ICzd-nYzSwYs",
        "outputId": "fe04f351-6e4a-4985-bb7d-99a9619ac8f0"
      },
      "execution_count": 11,
      "outputs": [
        {
          "output_type": "stream",
          "name": "stdout",
          "text": [
            "Requirement already satisfied: rdkit in /usr/local/lib/python3.10/dist-packages (2024.3.5)\n",
            "Requirement already satisfied: numpy in /usr/local/lib/python3.10/dist-packages (from rdkit) (1.26.4)\n",
            "Requirement already satisfied: Pillow in /usr/local/lib/python3.10/dist-packages (from rdkit) (10.4.0)\n",
            "Requirement already satisfied: dcekit in /usr/local/lib/python3.10/dist-packages (2.14.1)\n",
            "Requirement already satisfied: numpy in /usr/local/lib/python3.10/dist-packages (from dcekit) (1.26.4)\n",
            "Requirement already satisfied: pandas in /usr/local/lib/python3.10/dist-packages (from dcekit) (2.2.2)\n",
            "Requirement already satisfied: scikit-learn in /usr/local/lib/python3.10/dist-packages (from dcekit) (1.5.2)\n",
            "Requirement already satisfied: scipy in /usr/local/lib/python3.10/dist-packages (from dcekit) (1.13.1)\n",
            "Requirement already satisfied: python-dateutil>=2.8.2 in /usr/local/lib/python3.10/dist-packages (from pandas->dcekit) (2.8.2)\n",
            "Requirement already satisfied: pytz>=2020.1 in /usr/local/lib/python3.10/dist-packages (from pandas->dcekit) (2024.2)\n",
            "Requirement already satisfied: tzdata>=2022.7 in /usr/local/lib/python3.10/dist-packages (from pandas->dcekit) (2024.2)\n",
            "Requirement already satisfied: joblib>=1.2.0 in /usr/local/lib/python3.10/dist-packages (from scikit-learn->dcekit) (1.4.2)\n",
            "Requirement already satisfied: threadpoolctl>=3.1.0 in /usr/local/lib/python3.10/dist-packages (from scikit-learn->dcekit) (3.5.0)\n",
            "Requirement already satisfied: six>=1.5 in /usr/local/lib/python3.10/dist-packages (from python-dateutil>=2.8.2->pandas->dcekit) (1.16.0)\n",
            "Requirement already satisfied: boruta in /usr/local/lib/python3.10/dist-packages (0.4.3)\n",
            "Requirement already satisfied: numpy>=1.10.4 in /usr/local/lib/python3.10/dist-packages (from boruta) (1.26.4)\n",
            "Requirement already satisfied: scikit-learn>=0.17.1 in /usr/local/lib/python3.10/dist-packages (from boruta) (1.5.2)\n",
            "Requirement already satisfied: scipy>=0.17.0 in /usr/local/lib/python3.10/dist-packages (from boruta) (1.13.1)\n",
            "Requirement already satisfied: joblib>=1.2.0 in /usr/local/lib/python3.10/dist-packages (from scikit-learn>=0.17.1->boruta) (1.4.2)\n",
            "Requirement already satisfied: threadpoolctl>=3.1.0 in /usr/local/lib/python3.10/dist-packages (from scikit-learn>=0.17.1->boruta) (3.5.0)\n"
          ]
        }
      ]
    },
    {
      "cell_type": "code",
      "source": [
        "import os\n",
        "import pandas as pd\n",
        "import numpy as np\n",
        "import math\n",
        "import matplotlib.figure as figure\n",
        "import matplotlib.pyplot as plt\n",
        "from rdkit import Chem\n",
        "from rdkit.ML.Descriptors import MoleculeDescriptors\n",
        "from rdkit.Chem import AllChem\n",
        "from sklearn.preprocessing import StandardScaler\n",
        "from sklearn.ensemble import RandomForestRegressor\n",
        "from sklearn.model_selection import train_test_split,GridSearchCV\n",
        "from sklearn.metrics import r2_score, mean_absolute_error,mean_squared_error\n",
        "from dcekit.variable_selection import search_high_rate_of_same_values, search_highly_correlated_variables\n",
        "from boruta import BorutaPy"
      ],
      "metadata": {
        "id": "aICftuOAS0US"
      },
      "execution_count": 12,
      "outputs": []
    },
    {
      "cell_type": "code",
      "source": [
        "from google.colab import drive\n",
        "drive.mount('/content/drive')\n",
        "import pandas as pd\n",
        "#データの読み込み\n",
        "df = pd.read_csv(\"/content/drive/MyDrive/Bostonhousedata2.csv\")"
      ],
      "metadata": {
        "colab": {
          "base_uri": "https://localhost:8080/"
        },
        "id": "6M7-5hAjTEtD",
        "outputId": "3e23a8b0-6bcd-4d48-d167-94ccdc0d853c"
      },
      "execution_count": 13,
      "outputs": [
        {
          "output_type": "stream",
          "name": "stdout",
          "text": [
            "Drive already mounted at /content/drive; to attempt to forcibly remount, call drive.mount(\"/content/drive\", force_remount=True).\n"
          ]
        }
      ]
    },
    {
      "cell_type": "code",
      "source": [
        "# データの確認\n",
        "print(df.head())  # データの確認用。目的変数が '住宅価格' であることを確認"
      ],
      "metadata": {
        "colab": {
          "base_uri": "https://localhost:8080/"
        },
        "id": "BXEquFOETQog",
        "outputId": "36604c1a-20d6-4ff5-bda0-1ce133924dd8",
        "collapsed": true
      },
      "execution_count": 5,
      "outputs": [
        {
          "output_type": "stream",
          "name": "stdout",
          "text": [
            "   house_price    crime  big_house  near_river     co  average_room  old_rate  \\\n",
            "0         24.0  0.00632       18.0           0  0.538         6.575      65.2   \n",
            "1         21.6  0.02731        0.0           0  0.469         6.421      78.9   \n",
            "2         34.7  0.02729        0.0           0  0.469         7.185      61.1   \n",
            "3         33.4  0.03237        0.0           0  0.458         6.998      45.8   \n",
            "4         36.2  0.06905        0.0           0  0.458         7.147      54.2   \n",
            "\n",
            "   access_highway  tax  student_teacher  low_salary  \n",
            "0               1  296             15.3        4.98  \n",
            "1               2  242             17.8        9.14  \n",
            "2               2  242             17.8        4.03  \n",
            "3               3  222             18.7        2.94  \n",
            "4               3  222             18.7        5.33  \n"
          ]
        }
      ]
    },
    {
      "cell_type": "code",
      "execution_count": 40,
      "metadata": {
        "colab": {
          "base_uri": "https://localhost:8080/"
        },
        "id": "5w4dkGDySmiI",
        "outputId": "ae7e8c13-e0ab-4b0c-a13f-f21859404fcc"
      },
      "outputs": [
        {
          "output_type": "stream",
          "name": "stdout",
          "text": [
            "住宅価格に関係する重要な変数: ['crime', 'co', 'average_room', 'old_rate', 'tax', 'student_teacher', 'low_salary']\n"
          ]
        }
      ],
      "source": [
        "# 説明変数と目的変数を設定\n",
        "X = df.drop('house_price', axis=1).values  # '住宅価格'列以外が説明変数　axis=1で列指定　axis=0で行指定\n",
        "y = df['house_price'].values  # '住宅価格'が目的変数　valuesで数値化\n",
        "\n",
        "#StandardScalerを使って標準化\n",
        "scaler_X = StandardScaler()\n",
        "#scaler_y = StandardScaler()\n",
        "scaled_X = scaler_X.fit_transform(X)\n",
        "#scaled_y = scaler_y.fit_transform(y)\n",
        "\n",
        "\n",
        "# ランダムフォレストモデルの定義\n",
        "rf = RandomForestRegressor(n_estimators=100, random_state=42)\n",
        "#要協議が必要\n",
        "\n",
        "# Borutaによる特徴選択 ver1\n",
        "boruta_selector = BorutaPy(rf, n_estimators='auto', random_state=42, alpha=0.05)\n",
        "boruta_selector.fit(scaled_X, y)\n",
        "\n",
        "# 選ばれた特徴量をDataFrameに変換\n",
        "scaled_selected_features = df.drop('house_price', axis=1).columns[boruta_selector.support_].tolist()\n",
        "\n",
        "# 結果の表示\n",
        "print(\"住宅価格に関係する重要な変数:\", scaled_selected_features)\n",
        "\n",
        "##selected_featuresは自分で出した（簡易的なものなのかもしれない）"
      ]
    },
    {
      "cell_type": "code",
      "source": [
        "\n",
        "# 選択されるまえの特徴量でデータを分割\n",
        "#scaled_X_selected = df[scaled_selected_features].values\n",
        "scaled_X_train, scaled_X_test, y_train, y_test = train_test_split(scaled_X, y, test_size=0.2, random_state=42)\n",
        "\n",
        "#Borutaによる変数選択 version2\n",
        "#pパーセンタイルの最適化\n",
        "corr_list = []\n",
        "for n in range(10000):\n",
        "    shadow_features = np.random.rand(scaled_X_train.shape[0]).T\n",
        "    corr = np.corrcoef(scaled_X_train, shadow_features,rowvar=False)[-1]\n",
        "    corr = abs(corr[corr < 0.95])\n",
        "    corr_list.append(corr.max())\n",
        "\n",
        "corr_array = np.array(corr_list)\n",
        "perc = 100 * (1-corr_array.max())\n",
        "\n",
        "#Borutaの実施\n",
        "feat_selector = BorutaPy(rf,\n",
        "n_estimators='auto',  # 特徴量の数に比例して、木の本数を増やす\n",
        "verbose=0,\n",
        "alpha=0.05, # 有意水準\n",
        "max_iter=100, # 試行回数\n",
        "perc = perc, #ランダム生成変数の重要度の何％を基準とするか\n",
        "random_state=0\n",
        ")\n",
        "feat_selector.fit(scaled_X_train, y_train)\n",
        "scaled_X_train_br = scaled_X_train[:,feat_selector.support_]\n",
        "scaled_X_test_br = scaled_X_test[:,feat_selector.support_]\n",
        "\n",
        "# 選ばれた特徴量をDataFrameに変換\n",
        "scaled_selected_features_2 = df.drop('house_price', axis=1).columns[feat_selector.support_].tolist()\n",
        "\n",
        "# 結果の表示\n",
        "print('pパーセンタイル:',round(perc,2))\n",
        "print('boruta後の変数の数:',scaled_X_train_br.shape[1])\n",
        "print(\"住宅価格に関係する重要な変数:\", scaled_selected_features_2)"
      ],
      "metadata": {
        "colab": {
          "base_uri": "https://localhost:8080/"
        },
        "id": "ZnSM-QxzzdMo",
        "outputId": "a09124e2-0b02-40da-9cce-2f7728adafc7"
      },
      "execution_count": 44,
      "outputs": [
        {
          "output_type": "stream",
          "name": "stdout",
          "text": [
            "住宅価格に関係する重要な変数: ['crime', 'co', 'average_room', 'old_rate', 'tax', 'student_teacher', 'low_salary']\n",
            "pパーセンタイル: 78.5\n",
            "boruta後の変数の数: 7\n"
          ]
        }
      ]
    },
    {
      "cell_type": "code",
      "source": [
        "# 選択された特徴量でデータを分割 ver1\n",
        "scaled_X_selected = df[scaled_selected_features].values\n",
        "scaled_X_train_boruta, scaled_X_test_boruta, y_train, y_test = train_test_split(scaled_X_selected, y, test_size=0.2, random_state=42)\n",
        "\n",
        "# boruta使用した場合の特徴量でデータを分割\n",
        "# モデルの学習\n",
        "rf.fit(scaled_X_train_boruta, y_train)\n",
        "\n",
        "# 予測\n",
        "y_pred_test_boruta = rf.predict(scaled_X_test_boruta)\n",
        "\n",
        "# モデルの評価\n",
        "print(\"borurta使用後R²スコア:\", r2_score(y_test, y_pred_test_boruta))\n",
        "print(\"borurta使用後平均絶対誤差:\", mean_absolute_error(y_test, y_pred_test_boruta))\n",
        "print(\"borurta使用後平均二乗誤差:\", mean_squared_error(y_test, y_pred_test_boruta))"
      ],
      "metadata": {
        "id": "XYoNuBU0GthD",
        "outputId": "7741bf31-18ce-4c6c-8e31-d03f0912b18c",
        "colab": {
          "base_uri": "https://localhost:8080/"
        }
      },
      "execution_count": 45,
      "outputs": [
        {
          "output_type": "stream",
          "name": "stdout",
          "text": [
            "borurta使用後R²スコア: 0.8631999676413594\n",
            "borurta使用後平均絶対誤差: 2.0948774509803902\n",
            "borurta使用後平均二乗誤差: 10.032063909313713\n"
          ]
        }
      ]
    },
    {
      "cell_type": "code",
      "source": [
        "# boruta使用しない場合の特徴量でデータを分割\n",
        "#X_selected = df[selected_features].values\n",
        "X_train_ori, X_test_ori, y_train_ori, y_test_ori = train_test_split(X, y, test_size=0.2, random_state=42)\n",
        "\n",
        "# モデルの学習\n",
        "rf.fit(X_train_ori, y_train_ori)\n",
        "\n",
        "# 予測\n",
        "y_pred_ori = rf.predict(X_test_ori)\n",
        "\n",
        "# モデルの評価\n",
        "print(\"borurta使用前R²スコア:\", r2_score(y_test, y_pred_ori))\n",
        "print(\"borurta使用前平均絶対誤差:\", mean_absolute_error(y_test, y_pred_ori))\n",
        "print(\"borurta使用前平均二乗誤差:\", mean_squared_error(y_test, y_pred_ori))"
      ],
      "metadata": {
        "colab": {
          "base_uri": "https://localhost:8080/"
        },
        "id": "S9HEY1kf1G6W",
        "outputId": "fcdc5d66-6a45-4c5f-8221-518d2db57457"
      },
      "execution_count": 27,
      "outputs": [
        {
          "output_type": "stream",
          "name": "stdout",
          "text": [
            "borurta使用前R²スコア: 0.8175953540947073\n",
            "borurta使用前平均絶対誤差: 2.163540010598834\n",
            "borurta使用前平均二乗誤差: 13.376422750254228\n"
          ]
        }
      ]
    },
    {
      "cell_type": "code",
      "source": [
        "import matplotlib.pyplot as plt\n",
        "\n",
        "# 特徴量の重要度を取得\n",
        "importances = rf.feature_importances_[boruta_selector.support_]\n",
        "\n",
        "# 可視化\n",
        "plt.barh(selected_features, importances)\n",
        "plt.xlabel('Feature Importance')\n",
        "plt.title('Selected Features Importance')\n",
        "plt.show()\n"
      ],
      "metadata": {
        "colab": {
          "base_uri": "https://localhost:8080/",
          "height": 472
        },
        "id": "reUAxBOU0n60",
        "outputId": "d2e237cc-dc84-48d9-ab98-95c45bb8d303"
      },
      "execution_count": 26,
      "outputs": [
        {
          "output_type": "display_data",
          "data": {
            "text/plain": [
              "<Figure size 640x480 with 1 Axes>"
            ],
            "image/png": "[encoded data removed]"
          },
          "metadata": {}
        }
      ]
    },
    {
      "cell_type": "markdown",
      "source": [],
      "metadata": {
        "id": "qY3jLilWSqwK"
      }
    }
  ]
}