{
  "nbformat": 4,
  "nbformat_minor": 0,
  "metadata": {
    "colab": {
      "provenance": [],
      "authorship_tag": "ABX9TyP6GDdl6FodAnSDVZpboIJA",
      "include_colab_link": true
    },
    "kernelspec": {
      "name": "python3",
      "display_name": "Python 3"
    },
    "language_info": {
      "name": "python"
    }
  },
  "cells": [
    {
      "cell_type": "markdown",
      "metadata": {
        "id": "view-in-github",
        "colab_type": "text"
      },
      "source": [
        "<a href=\"https://colab.research.google.com/github/TomoharuKurosu/Tomoharu_DS2/blob/main/boruta_suc_house_price.ipynb\" target=\"_parent\"><img src=\"https://colab.research.google.com/assets/colab-badge.svg\" alt=\"Open In Colab\"/></a>"
      ]
    },
    {
      "cell_type": "code",
      "source": [
        "!pip install rdkit\n",
        "!pip install dcekit\n",
        "!pip install boruta"
      ],
      "metadata": {
        "colab": {
          "base_uri": "https://localhost:8080/"
        },
        "id": "ICzd-nYzSwYs",
        "outputId": "5be298f1-e4d1-4e29-9ff0-ba478c4a578b"
      },
      "execution_count": 1,
      "outputs": [
        {
          "output_type": "stream",
          "name": "stdout",
          "text": [
            "Collecting rdkit\n",
            "  Downloading rdkit-2024.3.5-cp310-cp310-manylinux_2_28_x86_64.whl.metadata (3.9 kB)\n",
            "Requirement already satisfied: numpy in /usr/local/lib/python3.10/dist-packages (from rdkit) (1.26.4)\n",
            "Requirement already satisfied: Pillow in /usr/local/lib/python3.10/dist-packages (from rdkit) (10.4.0)\n",
            "Downloading rdkit-2024.3.5-cp310-cp310-manylinux_2_28_x86_64.whl (33.1 MB)\n",
            "\u001b[2K   \u001b[90m━━━━━━━━━━━━━━━━━━━━━━━━━━━━━━━━━━━━━━━━\u001b[0m \u001b[32m33.1/33.1 MB\u001b[0m \u001b[31m19.9 MB/s\u001b[0m eta \u001b[36m0:00:00\u001b[0m\n",
            "\u001b[?25hInstalling collected packages: rdkit\n",
            "Successfully installed rdkit-2024.3.5\n",
            "Collecting dcekit\n",
            "  Downloading dcekit-2.14.1-py3-none-any.whl.metadata (1.8 kB)\n",
            "Requirement already satisfied: numpy in /usr/local/lib/python3.10/dist-packages (from dcekit) (1.26.4)\n",
            "Requirement already satisfied: pandas in /usr/local/lib/python3.10/dist-packages (from dcekit) (2.2.2)\n",
            "Requirement already satisfied: scikit-learn in /usr/local/lib/python3.10/dist-packages (from dcekit) (1.5.2)\n",
            "Requirement already satisfied: scipy in /usr/local/lib/python3.10/dist-packages (from dcekit) (1.13.1)\n",
            "Requirement already satisfied: python-dateutil>=2.8.2 in /usr/local/lib/python3.10/dist-packages (from pandas->dcekit) (2.8.2)\n",
            "Requirement already satisfied: pytz>=2020.1 in /usr/local/lib/python3.10/dist-packages (from pandas->dcekit) (2024.2)\n",
            "Requirement already satisfied: tzdata>=2022.7 in /usr/local/lib/python3.10/dist-packages (from pandas->dcekit) (2024.2)\n",
            "Requirement already satisfied: joblib>=1.2.0 in /usr/local/lib/python3.10/dist-packages (from scikit-learn->dcekit) (1.4.2)\n",
            "Requirement already satisfied: threadpoolctl>=3.1.0 in /usr/local/lib/python3.10/dist-packages (from scikit-learn->dcekit) (3.5.0)\n",
            "Requirement already satisfied: six>=1.5 in /usr/local/lib/python3.10/dist-packages (from python-dateutil>=2.8.2->pandas->dcekit) (1.16.0)\n",
            "Downloading dcekit-2.14.1-py3-none-any.whl (67 kB)\n",
            "\u001b[2K   \u001b[90m━━━━━━━━━━━━━━━━━━━━━━━━━━━━━━━━━━━━━━━━\u001b[0m \u001b[32m67.2/67.2 kB\u001b[0m \u001b[31m2.6 MB/s\u001b[0m eta \u001b[36m0:00:00\u001b[0m\n",
            "\u001b[?25hInstalling collected packages: dcekit\n",
            "Successfully installed dcekit-2.14.1\n",
            "Collecting boruta\n",
            "  Downloading Boruta-0.4.3-py3-none-any.whl.metadata (8.8 kB)\n",
            "Requirement already satisfied: numpy>=1.10.4 in /usr/local/lib/python3.10/dist-packages (from boruta) (1.26.4)\n",
            "Requirement already satisfied: scikit-learn>=0.17.1 in /usr/local/lib/python3.10/dist-packages (from boruta) (1.5.2)\n",
            "Requirement already satisfied: scipy>=0.17.0 in /usr/local/lib/python3.10/dist-packages (from boruta) (1.13.1)\n",
            "Requirement already satisfied: joblib>=1.2.0 in /usr/local/lib/python3.10/dist-packages (from scikit-learn>=0.17.1->boruta) (1.4.2)\n",
            "Requirement already satisfied: threadpoolctl>=3.1.0 in /usr/local/lib/python3.10/dist-packages (from scikit-learn>=0.17.1->boruta) (3.5.0)\n",
            "Downloading Boruta-0.4.3-py3-none-any.whl (57 kB)\n",
            "\u001b[2K   \u001b[90m━━━━━━━━━━━━━━━━━━━━━━━━━━━━━━━━━━━━━━━━\u001b[0m \u001b[32m57.9/57.9 kB\u001b[0m \u001b[31m2.0 MB/s\u001b[0m eta \u001b[36m0:00:00\u001b[0m\n",
            "\u001b[?25hInstalling collected packages: boruta\n",
            "Successfully installed boruta-0.4.3\n"
          ]
        }
      ]
    },
    {
      "cell_type": "code",
      "source": [
        "import os\n",
        "import pandas as pd\n",
        "import numpy as np\n",
        "import math\n",
        "import matplotlib.figure as figure\n",
        "import matplotlib.pyplot as plt\n",
        "from rdkit import Chem\n",
        "from rdkit.ML.Descriptors import MoleculeDescriptors\n",
        "from rdkit.Chem import AllChem\n",
        "from sklearn.preprocessing import StandardScaler\n",
        "from sklearn.ensemble import RandomForestRegressor\n",
        "from sklearn.model_selection import train_test_split,GridSearchCV\n",
        "from sklearn.metrics import r2_score, mean_absolute_error,mean_squared_error\n",
        "from dcekit.variable_selection import search_high_rate_of_same_values, search_highly_correlated_variables\n",
        "from boruta import BorutaPy"
      ],
      "metadata": {
        "id": "aICftuOAS0US"
      },
      "execution_count": 2,
      "outputs": []
    },
    {
      "cell_type": "code",
      "source": [
        "from google.colab import drive\n",
        "drive.mount('/content/drive')\n",
        "import pandas as pd"
      ],
      "metadata": {
        "colab": {
          "base_uri": "https://localhost:8080/"
        },
        "id": "6M7-5hAjTEtD",
        "outputId": "cdcc2c55-ec92-4ea4-efe8-121b896cd0a3"
      },
      "execution_count": 3,
      "outputs": [
        {
          "output_type": "stream",
          "name": "stdout",
          "text": [
            "Mounted at /content/drive\n"
          ]
        }
      ]
    },
    {
      "cell_type": "code",
      "source": [
        "#データの読み込み\n",
        "df = pd.read_csv(\"/content/drive/MyDrive/Bostonhousedata2.csv\")\n"
      ],
      "metadata": {
        "id": "F0lMYm6ATK3d"
      },
      "execution_count": 4,
      "outputs": []
    },
    {
      "cell_type": "code",
      "source": [
        "# データの確認\n",
        "print(df.head())  # データの確認用。目的変数が '住宅価格' であることを確認"
      ],
      "metadata": {
        "colab": {
          "base_uri": "https://localhost:8080/"
        },
        "id": "BXEquFOETQog",
        "outputId": "36604c1a-20d6-4ff5-bda0-1ce133924dd8"
      },
      "execution_count": 5,
      "outputs": [
        {
          "output_type": "stream",
          "name": "stdout",
          "text": [
            "   house_price    crime  big_house  near_river     co  average_room  old_rate  \\\n",
            "0         24.0  0.00632       18.0           0  0.538         6.575      65.2   \n",
            "1         21.6  0.02731        0.0           0  0.469         6.421      78.9   \n",
            "2         34.7  0.02729        0.0           0  0.469         7.185      61.1   \n",
            "3         33.4  0.03237        0.0           0  0.458         6.998      45.8   \n",
            "4         36.2  0.06905        0.0           0  0.458         7.147      54.2   \n",
            "\n",
            "   access_highway  tax  student_teacher  low_salary  \n",
            "0               1  296             15.3        4.98  \n",
            "1               2  242             17.8        9.14  \n",
            "2               2  242             17.8        4.03  \n",
            "3               3  222             18.7        2.94  \n",
            "4               3  222             18.7        5.33  \n"
          ]
        }
      ]
    },
    {
      "cell_type": "code",
      "execution_count": 6,
      "metadata": {
        "colab": {
          "base_uri": "https://localhost:8080/"
        },
        "id": "5w4dkGDySmiI",
        "outputId": "b0a291b4-2d9f-4c5d-9774-d3cc29caa81c"
      },
      "outputs": [
        {
          "output_type": "stream",
          "name": "stdout",
          "text": [
            "住宅価格に関係する重要な変数: ['crime', 'co', 'average_room', 'old_rate', 'tax', 'student_teacher', 'low_salary']\n"
          ]
        }
      ],
      "source": [
        "# 説明変数と目的変数を設定\n",
        "X = df.drop('house_price', axis=1).values  # '住宅価格'列以外が説明変数　axis=1で列指定　axis=0で行指定\n",
        "y = df['house_price'].values  # '住宅価格'が目的変数　valuesで数値化\n",
        "\n",
        "# ランダムフォレストモデルの定義\n",
        "rf = RandomForestRegressor(n_estimators=100, random_state=42)\n",
        "#要協議が必要\n",
        "\n",
        "# Borutaによる特徴選択\n",
        "boruta_selector = BorutaPy(rf, n_estimators='auto', random_state=42, alpha=0.05)\n",
        "boruta_selector.fit(X, y)\n",
        "\n",
        "# 選ばれた特徴量をDataFrameに変換\n",
        "selected_features = df.drop('house_price', axis=1).columns[boruta_selector.support_].tolist()\n",
        "\n",
        "# 結果の表示\n",
        "print(\"住宅価格に関係する重要な変数:\", selected_features)\n"
      ]
    },
    {
      "cell_type": "code",
      "source": [
        "##試行錯誤\n",
        "\n",
        "# 選択された特徴量でデータを分割\n",
        "X_selected = df[selected_features].values\n",
        "X_train, X_test, y_train, y_test = train_test_split(X_selected, y, test_size=0.2, random_state=42\n",
        "\n",
        "# モデルの学習\n",
        "rf.fit(X_train, y_train)\n",
        "\n",
        "# 予測\n",
        "y_pred = rf.predict(X_test)\n",
        "\n",
        "# モデルの評価\n",
        "print(\"borurta使用後R²スコア:\", r2_score(y_test, y_pred))\n",
        "print(\"borurta使用後平均絶対誤差:\", mean_absolute_error(y_test, y_pred))\n",
        "print(\"borurta使用後平均二乗誤差:\", mean_squared_error(y_test, y_pred))\n"
      ],
      "metadata": {
        "id": "ZnSM-QxzzdMo",
        "outputId": "84613eda-ba85-4eeb-9206-bdff5b4ee9f6",
        "colab": {
          "base_uri": "https://localhost:8080/"
        }
      },
      "execution_count": 7,
      "outputs": [
        {
          "output_type": "stream",
          "name": "stdout",
          "text": [
            "R²スコア: 0.8752139597897245\n",
            "平均絶対誤差: 2.0561519607843133\n",
            "平均二乗誤差: 9.151032414215686\n"
          ]
        }
      ]
    },
    {
      "cell_type": "code",
      "source": [
        "# 選択された特徴量でデータを分割\n",
        "X_selected = df[selected_features].values\n",
        "X_train_ori, X_test_ori, y_train_ori, y_test_ori = train_test_split(X, y, test_size=0.2, random_state=42)\n",
        "\n",
        "# モデルの学習\n",
        "rf.fit(X_train_ori, y_train_ori)\n",
        "\n",
        "# 予測\n",
        "y_pred_ori = rf.predict(X_test_ori)\n",
        "\n",
        "# モデルの評価\n",
        "print(\"borurta使用前R²スコア:\", r2_score(y_test, y_pred_ori))\n",
        "print(\"borurta使用前平均絶対誤差:\", mean_absolute_error(y_test, y_pred_ori))\n",
        "print(\"borurta使用前平均二乗誤差:\", mean_squared_error(y_test, y_pred_ori))"
      ],
      "metadata": {
        "id": "S9HEY1kf1G6W",
        "outputId": "dbdaee44-5dbc-4e89-aa1f-bdff2ae0194c",
        "colab": {
          "base_uri": "https://localhost:8080/"
        }
      },
      "execution_count": 9,
      "outputs": [
        {
          "output_type": "stream",
          "name": "stdout",
          "text": [
            "R²スコア: 0.8728008938762408\n",
            "平均絶対誤差: 2.0740196078431365\n",
            "平均二乗誤差: 9.327991666666664\n"
          ]
        }
      ]
    },
    {
      "cell_type": "code",
      "source": [
        "import matplotlib.pyplot as plt\n",
        "\n",
        "# 特徴量の重要度を取得\n",
        "importances = rf.feature_importances_[boruta_selector.support_]\n",
        "\n",
        "# 可視化\n",
        "plt.barh(selected_features, importances)\n",
        "plt.xlabel('Feature Importance')\n",
        "plt.title('Selected Features Importance')\n",
        "plt.show()\n"
      ],
      "metadata": {
        "id": "reUAxBOU0n60",
        "outputId": "b8ee206a-12b1-4f2c-86fa-68f96be46763",
        "colab": {
          "base_uri": "https://localhost:8080/",
          "height": 472
        }
      },
      "execution_count": 10,
      "outputs": [
        {
          "output_type": "display_data",
          "data": {
            "text/plain": [
              "<Figure size 640x480 with 1 Axes>"
            ],
            "image/png": "[encoded data removed]"
          },
          "metadata": {}
        }
      ]
    },
    {
      "cell_type": "markdown",
      "source": [],
      "metadata": {
        "id": "qY3jLilWSqwK"
      }
    }
  ]
}