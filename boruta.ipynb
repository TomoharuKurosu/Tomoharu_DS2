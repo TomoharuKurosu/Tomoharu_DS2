{
  "nbformat": 4,
  "nbformat_minor": 0,
  "metadata": {
    "colab": {
      "provenance": [],
      "authorship_tag": "ABX9TyPgkX0zBPlyrQKTgLnIWM7q",
      "include_colab_link": true
    },
    "kernelspec": {
      "name": "python3",
      "display_name": "Python 3"
    },
    "language_info": {
      "name": "python"
    }
  },
  "cells": [
    {
      "cell_type": "markdown",
      "metadata": {
        "id": "view-in-github",
        "colab_type": "text"
      },
      "source": [
        "<a href=\"https://colab.research.google.com/github/TomoharuKurosu/Tomoharu_DS2/blob/main/boruta.ipynb\" target=\"_parent\"><img src=\"https://colab.research.google.com/assets/colab-badge.svg\" alt=\"Open In Colab\"/></a>"
      ]
    },
    {
      "cell_type": "code",
      "source": [
        "!pip install -c conda-forge boruta_py\n"
      ],
      "metadata": {
        "colab": {
          "base_uri": "https://localhost:8080/"
        },
        "id": "J03H9bNKntqU",
        "outputId": "57749752-6e8f-4e96-f587-590946696e7b"
      },
      "execution_count": 12,
      "outputs": [
        {
          "output_type": "stream",
          "name": "stdout",
          "text": [
            "\u001b[31mERROR: Could not open requirements file: [Errno 2] No such file or directory: 'conda-forge'\u001b[0m\u001b[31m\n",
            "\u001b[0m"
          ]
        }
      ]
    },
    {
      "cell_type": "code",
      "source": [
        "!pip install rdkit\n",
        "!pip install dcekit\n",
        "!pip install boruta"
      ],
      "metadata": {
        "colab": {
          "base_uri": "https://localhost:8080/"
        },
        "id": "PkzN4HT6x5GN",
        "outputId": "b6ca1e37-c7b2-49a1-cff9-ab50c141b9d9"
      },
      "execution_count": 17,
      "outputs": [
        {
          "output_type": "stream",
          "name": "stdout",
          "text": [
            "Requirement already satisfied: rdkit in /usr/local/lib/python3.10/dist-packages (2024.3.5)\n",
            "Requirement already satisfied: numpy in /usr/local/lib/python3.10/dist-packages (from rdkit) (1.26.4)\n",
            "Requirement already satisfied: Pillow in /usr/local/lib/python3.10/dist-packages (from rdkit) (9.4.0)\n",
            "Requirement already satisfied: dcekit in /usr/local/lib/python3.10/dist-packages (2.14.1)\n",
            "Requirement already satisfied: numpy in /usr/local/lib/python3.10/dist-packages (from dcekit) (1.26.4)\n",
            "Requirement already satisfied: pandas in /usr/local/lib/python3.10/dist-packages (from dcekit) (2.1.4)\n",
            "Requirement already satisfied: scikit-learn in /usr/local/lib/python3.10/dist-packages (from dcekit) (1.3.2)\n",
            "Requirement already satisfied: scipy in /usr/local/lib/python3.10/dist-packages (from dcekit) (1.13.1)\n",
            "Requirement already satisfied: python-dateutil>=2.8.2 in /usr/local/lib/python3.10/dist-packages (from pandas->dcekit) (2.8.2)\n",
            "Requirement already satisfied: pytz>=2020.1 in /usr/local/lib/python3.10/dist-packages (from pandas->dcekit) (2024.2)\n",
            "Requirement already satisfied: tzdata>=2022.1 in /usr/local/lib/python3.10/dist-packages (from pandas->dcekit) (2024.1)\n",
            "Requirement already satisfied: joblib>=1.1.1 in /usr/local/lib/python3.10/dist-packages (from scikit-learn->dcekit) (1.4.2)\n",
            "Requirement already satisfied: threadpoolctl>=2.0.0 in /usr/local/lib/python3.10/dist-packages (from scikit-learn->dcekit) (3.5.0)\n",
            "Requirement already satisfied: six>=1.5 in /usr/local/lib/python3.10/dist-packages (from python-dateutil>=2.8.2->pandas->dcekit) (1.16.0)\n",
            "Requirement already satisfied: boruta in /usr/local/lib/python3.10/dist-packages (0.4.3)\n",
            "Requirement already satisfied: numpy>=1.10.4 in /usr/local/lib/python3.10/dist-packages (from boruta) (1.26.4)\n",
            "Requirement already satisfied: scikit-learn>=0.17.1 in /usr/local/lib/python3.10/dist-packages (from boruta) (1.3.2)\n",
            "Requirement already satisfied: scipy>=0.17.0 in /usr/local/lib/python3.10/dist-packages (from boruta) (1.13.1)\n",
            "Requirement already satisfied: joblib>=1.1.1 in /usr/local/lib/python3.10/dist-packages (from scikit-learn>=0.17.1->boruta) (1.4.2)\n",
            "Requirement already satisfied: threadpoolctl>=2.0.0 in /usr/local/lib/python3.10/dist-packages (from scikit-learn>=0.17.1->boruta) (3.5.0)\n"
          ]
        }
      ]
    },
    {
      "cell_type": "code",
      "source": [
        "import os\n",
        "import pandas as pd\n",
        "import numpy as np\n",
        "import math\n",
        "import matplotlib.figure as figure\n",
        "import matplotlib.pyplot as plt\n",
        "from rdkit import Chem\n",
        "from rdkit.ML.Descriptors import MoleculeDescriptors\n",
        "from rdkit.Chem import AllChem\n",
        "from sklearn.preprocessing import StandardScaler\n",
        "from sklearn.ensemble import RandomForestRegressor as rf\n",
        "from sklearn.model_selection import train_test_split,GridSearchCV\n",
        "from sklearn.metrics import r2_score, mean_absolute_error,mean_squared_error\n",
        "from dcekit.variable_selection import search_high_rate_of_same_values, search_highly_correlated_variables\n",
        "from boruta import BorutaPy\n",
        "\n"
      ],
      "metadata": {
        "id": "T0uSy20JehRV"
      },
      "execution_count": 19,
      "outputs": []
    },
    {
      "cell_type": "code",
      "source": [
        "#データの読み込み\n",
        "suppl = Chem.SDMolSupplier('logSdataset1290_2d.sdf')\n",
        "mols = [mol for mol in suppl if mol is not None]\n",
        "\n",
        "#RDkit記述子の計算\n",
        "descriptor_names = [descriptor_name[0] for descriptor_name in Chem.Descriptors._descList]\n",
        "descriptor_calculation = MoleculeDescriptors.MolecularDescriptorCalculator(descriptor_names)\n",
        "RDkit = [descriptor_calculation.CalcDescriptors(mol) for mol in mols]\n",
        "df = pd.DataFrame(RDkit, columns = descriptor_names)\n",
        "df.drop('MolLogP',axis=1,inplace=True)\n",
        "\n",
        "#溶解度(logS)の値を取得\n",
        "df['logS'] =  [mol.GetProp('logS') if 'logS' in mol.GetPropNames() else 'None' for mol in mols]\n",
        "\n",
        "#ここから変数選択\n",
        "df = df.astype(float)\n",
        "\n",
        "#欠損のある変数を削除\n",
        "df.dropna(axis=1,inplace=True)\n",
        "\n",
        "#分散が０の変数削除\n",
        "del_num1 = np.where(df.var() == 0)\n",
        "df = df.drop(df.columns[del_num1], axis=1)\n",
        "\n",
        "#変数選択（互いに相関関係にある変数の内一方を削除）\n",
        "threshold_of_r = 0.95 #変数選択するときの相関係数の絶対値の閾値\n",
        "corr_var = search_highly_correlated_variables(df, threshold_of_r)\n",
        "df.drop(df.columns[corr_var], axis=1, inplace=True)\n",
        "\n",
        "#同じ値を多くもつ変数の削除\n",
        "inner_fold_number = 2 #CVでの分割数（予定）\n",
        "rate_of_same_value = []\n",
        "threshold_of_rate_of_same_value = (inner_fold_number-1)/inner_fold_number\n",
        "for col in df.columns:\n",
        "    same_value_number = df[col].value_counts()\n",
        "    rate_of_same_value.append(float(same_value_number[same_value_number.index[0]] / df.shape[0]))\n",
        "del_var_num = np.where(np.array(rate_of_same_value) >= threshold_of_rate_of_same_value)\n",
        "df.drop(df.columns[del_var_num], axis=1, inplace=True)\n",
        "print(df.shape)\n",
        "# => (1290, 64)\n"
      ],
      "metadata": {
        "colab": {
          "base_uri": "https://localhost:8080/",
          "height": 211
        },
        "id": "tbg5GjDNy4Ta",
        "outputId": "76c2d844-c6d1-43cc-b981-1a89ccda7aa3"
      },
      "execution_count": 20,
      "outputs": [
        {
          "output_type": "error",
          "ename": "OSError",
          "evalue": "File error: Bad input file logSdataset1290_2d.sdf",
          "traceback": [
            "\u001b[0;31m---------------------------------------------------------------------------\u001b[0m",
            "\u001b[0;31mOSError\u001b[0m                                   Traceback (most recent call last)",
            "\u001b[0;32m<ipython-input-20-80332e7f0a41>\u001b[0m in \u001b[0;36m<cell line: 2>\u001b[0;34m()\u001b[0m\n\u001b[1;32m      1\u001b[0m \u001b[0;31m#データの読み込み\u001b[0m\u001b[0;34m\u001b[0m\u001b[0;34m\u001b[0m\u001b[0m\n\u001b[0;32m----> 2\u001b[0;31m \u001b[0msuppl\u001b[0m \u001b[0;34m=\u001b[0m \u001b[0mChem\u001b[0m\u001b[0;34m.\u001b[0m\u001b[0mSDMolSupplier\u001b[0m\u001b[0;34m(\u001b[0m\u001b[0;34m'logSdataset1290_2d.sdf'\u001b[0m\u001b[0;34m)\u001b[0m\u001b[0;34m\u001b[0m\u001b[0;34m\u001b[0m\u001b[0m\n\u001b[0m\u001b[1;32m      3\u001b[0m \u001b[0mmols\u001b[0m \u001b[0;34m=\u001b[0m \u001b[0;34m[\u001b[0m\u001b[0mmol\u001b[0m \u001b[0;32mfor\u001b[0m \u001b[0mmol\u001b[0m \u001b[0;32min\u001b[0m \u001b[0msuppl\u001b[0m \u001b[0;32mif\u001b[0m \u001b[0mmol\u001b[0m \u001b[0;32mis\u001b[0m \u001b[0;32mnot\u001b[0m \u001b[0;32mNone\u001b[0m\u001b[0;34m]\u001b[0m\u001b[0;34m\u001b[0m\u001b[0;34m\u001b[0m\u001b[0m\n\u001b[1;32m      4\u001b[0m \u001b[0;34m\u001b[0m\u001b[0m\n\u001b[1;32m      5\u001b[0m \u001b[0;31m#RDkit記述子の計算\u001b[0m\u001b[0;34m\u001b[0m\u001b[0;34m\u001b[0m\u001b[0m\n",
            "\u001b[0;31mOSError\u001b[0m: File error: Bad input file logSdataset1290_2d.sdf"
          ]
        }
      ]
    },
    {
      "cell_type": "code",
      "source": [
        "#訓練・テストデータの分割と標準化\n",
        "df_X = df.drop(['logS'],axis=1)\n",
        "df_y = df.loc[:,['logS']]\n",
        "X = df_X.values\n",
        "y = df_y.values\n",
        "X_train, X_test, y_train, y_test = train_test_split(X, y, test_size=0.5, random_state=0)\n",
        "\n",
        "#StandardScalerを使って標準化\n",
        "scaler_X = StandardScaler()\n",
        "scaler_y = StandardScaler()\n",
        "scaled_X_train = scaler_X.fit_transform(X_train)\n",
        "scaled_y_train = scaler_y.fit_transform(y_train)\n",
        "scaled_X_test = scaler_X.transform(X_test)\n",
        "scaled_y_test = scaler_y.transform(y_test)\n",
        "\n",
        "#Borutaによる変数選択\n",
        "#pパーセンタイルの最適化（金子研の方法）\n",
        "corr_list = []\n",
        "for n in range(10000):\n",
        "    shadow_features = np.random.rand(scaled_X_train.shape[0]).T\n",
        "    corr = np.corrcoef(scaled_X_train, shadow_features,rowvar=False)[-1]\n",
        "    corr = abs(corr[corr < 0.95])\n",
        "    corr_list.append(corr.max())\n",
        "\n",
        "corr_array = np.array(corr_list)\n",
        "perc = 100 * (1-corr_array.max())\n",
        "\n",
        "#Borutaの実施\n",
        "feat_selector = BorutaPy(rf(),\n",
        "n_estimators='auto',  # 特徴量の数に比例して、木の本数を増やす\n",
        "verbose=0,\n",
        "alpha=0.05, # 有意水準\n",
        "max_iter=100, # 試行回数\n",
        "perc = perc, #ランダム生成変数の重要度の何％を基準とするか\n",
        "random_state=0\n",
        ")\n",
        "feat_selector.fit(scaled_X_train, scaled_y_train)\n",
        "scaled_X_train_br = scaled_X_train[:,feat_selector.support_]\n",
        "scaled_X_test_br = scaled_X_test[:,feat_selector.support_]\n",
        "print('pパーセンタイル:',round(perc,2))\n",
        "print('boruta後の変数の数:',scaled_X_train_br.shape[1])\n",
        "\"\"\"output\n",
        "pパーセンタイル:80.79\n",
        "boruta後の変数の数: 43\n",
        "\"\"\"\n"
      ],
      "metadata": {
        "id": "Up7eBEzRehzg"
      },
      "execution_count": null,
      "outputs": []
    },
    {
      "cell_type": "code",
      "source": [
        "model = rf()\n",
        "model_br = rf()\n",
        "model.fit(scaled_X_train, scaled_y_train)\n",
        "model_br.fit(scaled_X_train_br, scaled_y_train)\n",
        "scaled_pred_y_br = np.ndarray.flatten(model_br.predict(scaled_X_test_br))\n",
        "pred_y_br = scaler_y.inverse_transform(scaled_pred_y_br)\n",
        "scaled_pred_y = np.ndarray.flatten(model.predict(scaled_X_test))\n",
        "pred_y = scaler_y.inverse_transform(scaled_pred_y)\n",
        "\n",
        "print('r2_br:{}'.format(round(r2_score(y_test, pred_y_test_br),3)))\n",
        "print('RMSE_br:{}'.format(round(np.sqrt(mean_squared_error(y_test, pred_y_test_br)),3)))\n",
        "print('r2:{}'.format(round(r2_score(y_test, pred_y_test),3)))\n",
        "print('RMSE:{}'.format(round(np.sqrt(mean_squared_error(y_test, pred_y_test)),3)))\n",
        "#\"\"\"output\n",
        "#r2_br:0.883\n",
        "#RMSE_br:0.697\n",
        "#r2:0.883\n",
        "#RMSE:0.699\n"
      ],
      "metadata": {
        "id": "hIJ52K3Wgcc_"
      },
      "execution_count": null,
      "outputs": []
    }
  ]
}