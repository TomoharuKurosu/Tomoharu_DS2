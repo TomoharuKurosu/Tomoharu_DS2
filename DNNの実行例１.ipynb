{
  "nbformat": 4,
  "nbformat_minor": 0,
  "metadata": {
    "colab": {
      "provenance": [],
      "authorship_tag": "ABX9TyOeONRjIHnJvge3p8Arw6nV",
      "include_colab_link": true
    },
    "kernelspec": {
      "name": "python3",
      "display_name": "Python 3"
    },
    "language_info": {
      "name": "python"
    }
  },
  "cells": [
    {
      "cell_type": "markdown",
      "metadata": {
        "id": "view-in-github",
        "colab_type": "text"
      },
      "source": [
        "<a href=\"https://colab.research.google.com/github/TomoharuKurosu/Tomoharu_DS2/blob/main/DNN%E3%81%AE%E5%AE%9F%E8%A1%8C%E4%BE%8B%EF%BC%91.ipynb\" target=\"_parent\"><img src=\"https://colab.research.google.com/assets/colab-badge.svg\" alt=\"Open In Colab\"/></a>"
      ]
    },
    {
      "cell_type": "code",
      "execution_count": 5,
      "metadata": {
        "id": "ahGV4DUt1k03"
      },
      "outputs": [],
      "source": [
        "from sklearn import datasets\n",
        "import numpy as np\n",
        "import matplotlib.pyplot as plt\n",
        "...\n",
        "\n",
        "iris = datasets.load_iris()\n",
        "import torch"
      ]
    },
    {
      "cell_type": "code",
      "source": [
        "y = np.zeros((len(iris.target), 1 + iris.target.max()), dtype=int)\n",
        "y[np.arange(len(iris.target)), iris.target] = 1\n"
      ],
      "metadata": {
        "id": "Ao9nUYsY6LaM"
      },
      "execution_count": 6,
      "outputs": []
    },
    {
      "cell_type": "code",
      "source": [
        "from sklearn.model_selection import train_test_split\n",
        "\n",
        "...\n",
        "\n",
        "X_train, X_test, y_train, y_test = train_test_split(iris.data, y, test_size=0.25)\n"
      ],
      "metadata": {
        "id": "UryrHa8b6gJ1"
      },
      "execution_count": 7,
      "outputs": []
    },
    {
      "cell_type": "code",
      "source": [
        "x = torch.from_numpy(X_train).float().requires_grad_(True)\n",
        "y = torch.from_numpy(y_train).float()\n",
        "import torch.nn as nn\n",
        "import torch.optim as optim\n",
        "import torch.nn.functional as F\n"
      ],
      "metadata": {
        "id": "K0vlAdXP6lna"
      },
      "execution_count": 20,
      "outputs": []
    },
    {
      "cell_type": "code",
      "source": [
        "class Net(nn.Module):\n",
        "\n",
        "    def __init__(self):\n",
        "        super(Net, self).__init__()\n",
        "        self.fc1 = nn.Linear(4, 10)\n",
        "        self.fc2 = nn.Linear(10, 8)\n",
        "        self.fc3 = nn.Linear(8, 3)\n",
        "\n",
        "    def forward(self, x):\n",
        "        x = F.relu(self.fc1(x))\n",
        "        x = F.relu(self.fc2(x))\n",
        "        x = self.fc3(x)\n",
        "        return x\n"
      ],
      "metadata": {
        "id": "HmKqX0Rt7yiR"
      },
      "execution_count": 21,
      "outputs": []
    },
    {
      "cell_type": "code",
      "source": [
        "net = Net()\n",
        "optimizer = optim.SGD(net.parameters(), lr=0.01)\n",
        "criterion = nn.MSELoss()\n"
      ],
      "metadata": {
        "id": "Tf332RAe9EPZ"
      },
      "execution_count": 19,
      "outputs": []
    },
    {
      "cell_type": "code",
      "source": [
        "for i in range(3000):\n",
        "    optimizer.zero_grad()\n",
        "    output = net(x)\n",
        "    loss = criterion(output, y)\n",
        "    loss.backward()\n",
        "    optimizer.step()\n"
      ],
      "metadata": {
        "id": "YgOk-Obe9VjA"
      },
      "execution_count": 22,
      "outputs": []
    },
    {
      "cell_type": "code",
      "source": [
        "# テストデータをテンソルに変換\n",
        "outputs = net(torch.from_numpy(X_test).float())\n",
        "\n",
        "# 最大値を持つクラスを予測\n",
        "_, predicted = torch.max(outputs.data, 1)\n",
        "\n",
        "# PyTorchテンソルをNumPy配列に変換\n",
        "y_predicted = predicted.numpy()\n",
        "\n",
        "# y_test の真のクラスラベルを取得\n",
        "y_true = np.argmax(y_test, axis=1)\n",
        "\n",
        "# 精度を計算\n",
        "accuracy = int(100 * np.sum(y_predicted == y_true) / len(y_predicted))\n",
        "print('accuracy: {0}%'.format(accuracy))\n"
      ],
      "metadata": {
        "colab": {
          "base_uri": "https://localhost:8080/"
        },
        "id": "XgASF2ZX9_FP",
        "outputId": "a05deb94-4e47-404d-830b-b245f2f89326"
      },
      "execution_count": 24,
      "outputs": [
        {
          "output_type": "stream",
          "name": "stdout",
          "text": [
            "accuracy: 100%\n"
          ]
        }
      ]
    },
    {
      "cell_type": "code",
      "source": [
        ">>> predict((5.6, 4.3, 1.5, 0.35))\n",
        "0\n"
      ],
      "metadata": {
        "id": "SRfhKo8n-OBG"
      },
      "execution_count": null,
      "outputs": []
    },
    {
      "cell_type": "code",
      "source": [
        "このコードは、ニューラルネットワークを使用してIrisデータセットを分類するモデルです。以下に、このモデルに関する詳細を説明します。\n",
        "\n",
        "モデルの概要\n",
        "データセット: このモデルは、sklearn.datasets から提供される Irisデータセット を使用しています。Irisデータセットは、3つの異なるアヤメの種類を特徴量に基づいて分類するためのものです。特徴量としては、花弁や萼片の長さと幅のデータが含まれています。\n",
        "モデルの構造\n",
        "ニューラルネットワーク (Net クラス): このモデルは3層の全結合（fully connected）ニューラルネットワークで構成されています。\n",
        "入力層 (fc1): 4つの入力ユニット（Irisデータセットの特徴量）を持ち、10ユニットの隠れ層に接続します。\n",
        "隠れ層 (fc2): 10ユニットから8ユニットへの接続。\n",
        "出力層 (fc3): 3ユニットの出力層で、それぞれがIrisの3つのクラス（種類）を表します。\n",
        "活性化関数\n",
        "ReLU関数 (F.relu): 入力層と隠れ層で使用されています。これは、非線形性をモデルに導入し、複雑なパターンを学習できるようにするためのものです。\n",
        "損失関数と最適化\n",
        "損失関数: 平均二乗誤差 (nn.MSELoss) を使用しています。通常、分類問題にはクロスエントロピー損失 (nn.CrossEntropyLoss) が使用されますが、この例では多クラス分類を回帰問題のように扱っているようです。\n",
        "最適化手法: 確率的勾配降下法 (SGD) を使用しています。\n",
        "訓練プロセス\n",
        "3000エポックにわたり、トレーニングデータでモデルを訓練しています。各エポックで損失を計算し、逆伝播を行い、ネットワークの重みを更新します。\n",
        "評価\n",
        "訓練後、テストデータセットを使用してモデルを評価し、精度を計算しています。\n",
        "予測関数\n",
        "最後に、未知のデータに対して予測を行うための predict 関数も定義されています。\n",
        "このモデルは、多層ニューラルネットワークを使った基本的な多クラス分類の例であり、PyTorchを使って実装されています。Irisデータセットを使用して、花の種類を分類することを目的としています。\n",
        "\n",
        "\n",
        "\n",
        "\n",
        "\n",
        "\n",
        "\n",
        "\n",
        "\n",
        "\n",
        "\n"
      ],
      "metadata": {
        "id": "ibCEHEjj_El0"
      },
      "execution_count": null,
      "outputs": []
    }
  ]
}