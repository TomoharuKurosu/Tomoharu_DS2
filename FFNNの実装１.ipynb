{
  "nbformat": 4,
  "nbformat_minor": 0,
  "metadata": {
    "colab": {
      "provenance": [],
      "authorship_tag": "ABX9TyNyjWrlUFm1+gxEHE8ixrAG",
      "include_colab_link": true
    },
    "kernelspec": {
      "name": "python3",
      "display_name": "Python 3"
    },
    "language_info": {
      "name": "python"
    }
  },
  "cells": [
    {
      "cell_type": "markdown",
      "metadata": {
        "id": "view-in-github",
        "colab_type": "text"
      },
      "source": [
        "<a href=\"https://colab.research.google.com/github/TomoharuKurosu/Tomoharu_DS2/blob/main/FFNN%E3%81%AE%E5%AE%9F%E8%A3%85%EF%BC%91.ipynb\" target=\"_parent\"><img src=\"https://colab.research.google.com/assets/colab-badge.svg\" alt=\"Open In Colab\"/></a>"
      ]
    },
    {
      "cell_type": "code",
      "execution_count": 1,
      "metadata": {
        "colab": {
          "base_uri": "https://localhost:8080/"
        },
        "id": "9lTxt6EKQ2Xy",
        "outputId": "a253bd1a-9fda-4628-e2a7-5c0cefd62784"
      },
      "outputs": [
        {
          "output_type": "stream",
          "name": "stdout",
          "text": [
            "accuracy: 97%\n"
          ]
        }
      ],
      "source": [
        "\n",
        "\n",
        "import torch\n",
        "from torch.autograd import Variable\n",
        "import torch.nn as nn\n",
        "import torch.nn.functional as F\n",
        "import torch.optim as optim\n",
        "import numpy as np\n",
        "from sklearn import datasets\n",
        "from sklearn.model_selection import train_test_split\n",
        "\n",
        "\n",
        "# network definition\n",
        "class Net(nn.Module):\n",
        "\n",
        "    def __init__(self):\n",
        "        super(Net, self).__init__()\n",
        "        self.fc1 = nn.Linear(4, 10)\n",
        "        self.fc2 = nn.Linear(10, 8)\n",
        "        self.fc3 = nn.Linear(8, 3)\n",
        "\n",
        "    def forward(self, x):\n",
        "        x = F.relu(self.fc1(x))\n",
        "        x = F.relu(self.fc2(x))\n",
        "        x = self.fc3(x)\n",
        "        return x\n",
        "\n",
        "iris = datasets.load_iris()\n",
        "y = np.zeros((len(iris.target), 1 + iris.target.max()), dtype=int)\n",
        "y[np.arange(len(iris.target)), iris.target] = 1\n",
        "X_train, X_test, y_train, y_test = train_test_split(iris.data, y, test_size=0.25)\n",
        "x = Variable(torch.from_numpy(X_train).float(), requires_grad=True)\n",
        "y = Variable(torch.from_numpy(y_train).float())\n",
        "net = Net()\n",
        "optimizer = optim.SGD(net.parameters(), lr=0.01)\n",
        "criterion = nn.MSELoss()\n",
        "\n",
        "for i in range(3000):\n",
        "    optimizer.zero_grad()\n",
        "    output = net(x)\n",
        "    loss = criterion(output, y)\n",
        "    loss.backward()\n",
        "    optimizer.step()\n",
        "\n",
        "# test\n",
        "outputs = net(Variable(torch.from_numpy(X_test).float()))\n",
        "_, predicted = torch.max(outputs.data, 1)\n",
        "y_predicted = predicted.numpy()\n",
        "y_true = np.argmax(y_test, axis=1)\n",
        "accuracy = (int)(100 * np.sum(y_predicted == y_true) / len(y_predicted))\n",
        "print('accuracy: {0}%'.format(accuracy))\n",
        "\n",
        "\n",
        "# utility function to predict for an unknown data\n",
        "def predict(X):\n",
        "    X = Variable(torch.from_numpy(np.array(X)).float())\n",
        "    outputs = net(X)\n",
        "    return np.argmax(outputs.data.numpy())\n"
      ]
    }
  ]
}