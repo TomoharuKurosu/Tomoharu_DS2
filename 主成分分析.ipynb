{
  "nbformat": 4,
  "nbformat_minor": 0,
  "metadata": {
    "colab": {
      "provenance": [],
      "authorship_tag": "ABX9TyMTMD0vdp28Py9znPTN31gs",
      "include_colab_link": true
    },
    "kernelspec": {
      "name": "python3",
      "display_name": "Python 3"
    },
    "language_info": {
      "name": "python"
    }
  },
  "cells": [
    {
      "cell_type": "markdown",
      "metadata": {
        "id": "view-in-github",
        "colab_type": "text"
      },
      "source": [
        "<a href=\"https://colab.research.google.com/github/TomoharuKurosu/Tomoharu_DS2/blob/main/%E4%B8%BB%E6%88%90%E5%88%86%E5%88%86%E6%9E%90.ipynb\" target=\"_parent\"><img src=\"https://colab.research.google.com/assets/colab-badge.svg\" alt=\"Open In Colab\"/></a>"
      ]
    },
    {
      "cell_type": "code",
      "execution_count": null,
      "metadata": {
        "id": "VMaIROyI6N2Q"
      },
      "outputs": [],
      "source": [
        "from sklearn.decomposition import PCA\n",
        "from sklearn.preprocessing import StandardScaler\n",
        "\n",
        "# データの標準化\n",
        "scaler = StandardScaler()\n",
        "scaled_data = scaler.fit_transform(data)\n",
        "\n",
        "# 主成分分析を実行\n",
        "pca = PCA(n_components=1)  # 1つの主成分にまとめる\n",
        "principal_component = pca.fit_transform(scaled_data)\n",
        "\n",
        "# 主成分を元データに追加\n",
        "data['principal_component'] = principal_component\n",
        "\n",
        "# 主成分の係数（loading）と、主成分得点の最初の5行\n",
        "pca.components_, data.head()\n"
      ]
    }
  ]
}