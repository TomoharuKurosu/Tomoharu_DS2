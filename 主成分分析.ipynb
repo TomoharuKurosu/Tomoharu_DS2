{
  "nbformat": 4,
  "nbformat_minor": 0,
  "metadata": {
    "colab": {
      "provenance": [],
      "authorship_tag": "ABX9TyN0uIa0WFLE6cerseYwDehw",
      "include_colab_link": true
    },
    "kernelspec": {
      "name": "python3",
      "display_name": "Python 3"
    },
    "language_info": {
      "name": "python"
    }
  },
  "cells": [
    {
      "cell_type": "markdown",
      "metadata": {
        "id": "view-in-github",
        "colab_type": "text"
      },
      "source": [
        "<a href=\"https://colab.research.google.com/github/TomoharuKurosu/Tomoharu_DS2/blob/main/%E4%B8%BB%E6%88%90%E5%88%86%E5%88%86%E6%9E%90.ipynb\" target=\"_parent\"><img src=\"https://colab.research.google.com/assets/colab-badge.svg\" alt=\"Open In Colab\"/></a>"
      ]
    },
    {
      "cell_type": "code",
      "source": [
        "import pandas as pd\n",
        "df = pd.read_csv(\"syuseibun1.csv\")"
      ],
      "metadata": {
        "id": "IAC5nysC_-CF"
      },
      "execution_count": 3,
      "outputs": []
    },
    {
      "cell_type": "code",
      "execution_count": 6,
      "metadata": {
        "id": "VMaIROyI6N2Q",
        "colab": {
          "base_uri": "https://localhost:8080/"
        },
        "outputId": "95b04d4e-a1d6-4dfc-8ec8-4b7bd97969b5"
      },
      "outputs": [
        {
          "output_type": "execute_result",
          "data": {
            "text/plain": [
              "(array([[ 0.50775698, -0.50775698,  0.69596387]]),\n",
              "    non_resistance_rate  quake  principal_component\n",
              " 0             0.040414      8            -1.494377\n",
              " 1             0.041553      7            -1.390494\n",
              " 2             0.042693      6            -1.286611\n",
              " 3             0.043833     14            -2.004890\n",
              " 4             0.044973      9            -1.535602)"
            ]
          },
          "metadata": {},
          "execution_count": 6
        }
      ],
      "source": [
        "from sklearn.decomposition import PCA\n",
        "from sklearn.preprocessing import StandardScaler\n",
        "\n",
        "# データの標準化\n",
        "scaler = StandardScaler()\n",
        "scaled_data = scaler.fit_transform(df)\n",
        "\n",
        "# 主成分分析を実行\n",
        "pca = PCA(n_components=1)  # 1つの主成分にまとめる\n",
        "principal_component = pca.fit_transform(scaled_data)\n",
        "\n",
        "# 主成分を元データに追加\n",
        "df['principal_component'] = principal_component\n",
        "\n",
        "# 主成分の係数（loading）と、主成分得点の最初の5行\n",
        "pca.components_, df.head()\n"
      ]
    }
  ]
}