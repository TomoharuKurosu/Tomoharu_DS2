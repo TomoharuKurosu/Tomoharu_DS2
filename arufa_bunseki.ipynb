{
  "nbformat": 4,
  "nbformat_minor": 0,
  "metadata": {
    "colab": {
      "provenance": [],
      "authorship_tag": "ABX9TyPswqNXPSzwDeKkF+XpIOLM",
      "include_colab_link": true
    },
    "kernelspec": {
      "name": "python3",
      "display_name": "Python 3"
    },
    "language_info": {
      "name": "python"
    }
  },
  "cells": [
    {
      "cell_type": "markdown",
      "metadata": {
        "id": "view-in-github",
        "colab_type": "text"
      },
      "source": [
        "<a href=\"https://colab.research.google.com/github/TomoharuKurosu/Tomoharu_DS2/blob/main/arufa_bunseki.ipynb\" target=\"_parent\"><img src=\"https://colab.research.google.com/assets/colab-badge.svg\" alt=\"Open In Colab\"/></a>"
      ]
    },
    {
      "cell_type": "code",
      "execution_count": null,
      "metadata": {
        "colab": {
          "base_uri": "https://localhost:8080/"
        },
        "id": "xK1xuNDv_tXG",
        "outputId": "8cb242d2-0b30-47d0-f36e-8296a1d90fce"
      },
      "outputs": [
        {
          "output_type": "stream",
          "name": "stdout",
          "text": [
            "Estimated parameters: [-4.74963596e+03  4.93623949e+03  1.00000000e+00]\n"
          ]
        },
        {
          "output_type": "stream",
          "name": "stderr",
          "text": [
            "<ipython-input-12-c044ba353878>:21: OptimizeWarning: Covariance of the parameters could not be estimated\n",
            "  popt, pcov = curve_fit(model, (miyagi, non_resistance_rate), a1)\n"
          ]
        }
      ],
      "source": [
        "import numpy as np\n",
        "from scipy.optimize import curve_fit\n",
        "import pandas as pd\n",
        "\n",
        "# モデル関数の定義\n",
        "def model(X, a, b, c):\n",
        "    non_resistance_rate, miyagi = X  # Unpack the input data\n",
        "    return a * miyagi + b * (non_resistance_rate ** c)\n",
        "\n",
        "data = pd.read_csv('/content/a_bunseki.csv')\n",
        "miyagi = data['miyagi']\n",
        "non_resistance_rate = data['non_resistance_rate']\n",
        "a1 = data['arufa']\n",
        "# Replace inf and NaN values with finite numbers\n",
        "a1 = a1.replace([np.inf, -np.inf], np.nan).fillna(0)\n",
        "miyagi = miyagi.replace([np.inf, -np.inf], np.nan).fillna(0)\n",
        "non_resistance_rate = non_resistance_rate.replace([np.inf, -np.inf], np.nan).fillna(0)\n",
        "\n",
        "# curve_fitの使用\n",
        "# The independent variables are passed as a single tuple\n",
        "popt, pcov = curve_fit(model, (miyagi, non_resistance_rate), a1)\n",
        "\n",
        "# 最適なパラメータ a, b, c, d, e\n",
        "print(\"Estimated parameters:\", popt)"
      ]
    },
    {
      "source": [
        "import numpy as np\n",
        "from scipy.optimize import curve_fit\n",
        "import pandas as pd\n",
        "\n",
        "# モデル関数の定義\n",
        "def model(X, a, b, c):\n",
        "    non_resistance_rate, miyagi = X  # Unpack the input data\n",
        "    return a * miyagi + b * (non_resistance_rate ** c)\n",
        "\n",
        "data = pd.read_csv('/content/a_bunseki.csv')\n",
        "miyagi = data['miyagi']\n",
        "non_resistance_rate = data['non_resistance_rate']\n",
        "a1 = data['arufa']\n",
        "\n",
        "# Convert 'a1' to numeric, handling errors\n",
        "a1 = pd.to_numeric(a1, errors='coerce')  # Invalid parsing will be set to NaN\n",
        "\n",
        "# Replace inf and NaN values with finite numbers\n",
        "a1 = a1.replace([np.inf, -np.inf], np.nan).fillna(0)\n",
        "miyagi = miyagi.replace([np.inf, -np.inf], np.nan).fillna(0)\n",
        "non_resistance_rate = non_resistance_rate.replace([np.inf, -np.inf], np.nan).fillna(0)\n",
        "\n",
        "# curve_fitの使用\n",
        "# The independent variables are passed as a single tuple\n",
        "popt, pcov = curve_fit(model, (miyagi, non_resistance_rate), a1)\n",
        "\n",
        "# 最適なパラメータ a, b, c, d, e\n",
        "print(\"Estimated parameters:\", popt)"
      ],
      "cell_type": "code",
      "metadata": {
        "colab": {
          "base_uri": "https://localhost:8080/"
        },
        "id": "e0SWXQYoKanW",
        "outputId": "b6d93575-4295-40f9-d802-f6388b787a86"
      },
      "execution_count": null,
      "outputs": [
        {
          "output_type": "stream",
          "name": "stdout",
          "text": [
            "Estimated parameters: [-4.56712164e+03  4.91459913e+03  1.00000000e+00]\n"
          ]
        },
        {
          "output_type": "stream",
          "name": "stderr",
          "text": [
            "<ipython-input-11-a7fb6304ed7a>:25: OptimizeWarning: Covariance of the parameters could not be estimated\n",
            "  popt, pcov = curve_fit(model, (miyagi, non_resistance_rate), a1)\n"
          ]
        }
      ]
    }
  ]
}