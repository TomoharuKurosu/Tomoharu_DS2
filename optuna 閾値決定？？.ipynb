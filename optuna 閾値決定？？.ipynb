{
  "nbformat": 4,
  "nbformat_minor": 0,
  "metadata": {
    "colab": {
      "provenance": [],
      "authorship_tag": "ABX9TyNvZPt3rGLYWyKcGkR+2V7N",
      "include_colab_link": true
    },
    "kernelspec": {
      "name": "python3",
      "display_name": "Python 3"
    },
    "language_info": {
      "name": "python"
    }
  },
  "cells": [
    {
      "cell_type": "markdown",
      "metadata": {
        "id": "view-in-github",
        "colab_type": "text"
      },
      "source": [
        "<a href=\"https://colab.research.google.com/github/TomoharuKurosu/Tomoharu_DS2/blob/main/optuna%20%E9%96%BE%E5%80%A4%E6%B1%BA%E5%AE%9A%EF%BC%9F%EF%BC%9F.ipynb\" target=\"_parent\"><img src=\"https://colab.research.google.com/assets/colab-badge.svg\" alt=\"Open In Colab\"/></a>"
      ]
    },
    {
      "cell_type": "code",
      "execution_count": 10,
      "metadata": {
        "colab": {
          "base_uri": "https://localhost:8080/"
        },
        "id": "JVe2YVILNUo9",
        "outputId": "2150b4f2-6c7a-4bac-83ba-ab5274f2ab71"
      },
      "outputs": [
        {
          "output_type": "stream",
          "name": "stdout",
          "text": [
            "Requirement already satisfied: optuna in /usr/local/lib/python3.10/dist-packages (4.0.0)\n",
            "Requirement already satisfied: vital-sqi in /usr/local/lib/python3.10/dist-packages (0.1.0)\n",
            "Requirement already satisfied: alembic>=1.5.0 in /usr/local/lib/python3.10/dist-packages (from optuna) (1.13.2)\n",
            "Requirement already satisfied: colorlog in /usr/local/lib/python3.10/dist-packages (from optuna) (6.8.2)\n",
            "Requirement already satisfied: numpy in /usr/local/lib/python3.10/dist-packages (from optuna) (1.26.4)\n",
            "Requirement already satisfied: packaging>=20.0 in /usr/local/lib/python3.10/dist-packages (from optuna) (24.1)\n",
            "Requirement already satisfied: sqlalchemy>=1.3.0 in /usr/local/lib/python3.10/dist-packages (from optuna) (2.0.32)\n",
            "Requirement already satisfied: tqdm in /usr/local/lib/python3.10/dist-packages (from optuna) (4.66.5)\n",
            "Requirement already satisfied: PyYAML in /usr/local/lib/python3.10/dist-packages (from optuna) (6.0.2)\n",
            "Requirement already satisfied: librosa>=0.9.2 in /usr/local/lib/python3.10/dist-packages (from vital-sqi) (0.10.2.post1)\n",
            "Requirement already satisfied: heartpy>=1.2.6 in /usr/local/lib/python3.10/dist-packages (from vital-sqi) (1.2.7)\n",
            "Requirement already satisfied: pmdarima>=1.8.0 in /usr/local/lib/python3.10/dist-packages (from vital-sqi) (2.0.4)\n",
            "Requirement already satisfied: hrv-analysis>=1.0.3 in /usr/local/lib/python3.10/dist-packages (from vital-sqi) (1.0.4)\n",
            "Requirement already satisfied: matplotlib>=3.3.3 in /usr/local/lib/python3.10/dist-packages (from vital-sqi) (3.7.1)\n",
            "Requirement already satisfied: pandas>=1.1.5 in /usr/local/lib/python3.10/dist-packages (from vital-sqi) (2.1.4)\n",
            "Requirement already satisfied: plotly>=4.14.3 in /usr/local/lib/python3.10/dist-packages (from vital-sqi) (5.15.0)\n",
            "Requirement already satisfied: scikit-learn>=0.24.1 in /usr/local/lib/python3.10/dist-packages (from vital-sqi) (1.3.2)\n",
            "Requirement already satisfied: scipy>=1.6.0 in /usr/local/lib/python3.10/dist-packages (from vital-sqi) (1.13.1)\n",
            "Requirement already satisfied: statsmodels>=0.12.1 in /usr/local/lib/python3.10/dist-packages (from vital-sqi) (0.14.2)\n",
            "Requirement already satisfied: py-ecg-detectors>=1.0.2 in /usr/local/lib/python3.10/dist-packages (from vital-sqi) (1.3.5)\n",
            "Requirement already satisfied: pyEDFlib>=0.1.20 in /usr/local/lib/python3.10/dist-packages (from vital-sqi) (0.1.38)\n",
            "Requirement already satisfied: pycwt>=0.3.0a22 in /usr/local/lib/python3.10/dist-packages (from vital-sqi) (0.4.0b0)\n",
            "Requirement already satisfied: wfdb>=3.3.0 in /usr/local/lib/python3.10/dist-packages (from vital-sqi) (4.1.2)\n",
            "Requirement already satisfied: datetimerange>=1.0.0 in /usr/local/lib/python3.10/dist-packages (from vital-sqi) (2.3.0)\n",
            "Requirement already satisfied: dateparser>=1.0.0 in /usr/local/lib/python3.10/dist-packages (from vital-sqi) (1.2.0)\n",
            "Requirement already satisfied: openpyxl>=3.0.7 in /usr/local/lib/python3.10/dist-packages (from vital-sqi) (3.1.5)\n",
            "Requirement already satisfied: pyflowchart>=0.1.3 in /usr/local/lib/python3.10/dist-packages (from vital-sqi) (0.3.1)\n",
            "Requirement already satisfied: Mako in /usr/local/lib/python3.10/dist-packages (from alembic>=1.5.0->optuna) (1.3.5)\n",
            "Requirement already satisfied: typing-extensions>=4 in /usr/local/lib/python3.10/dist-packages (from alembic>=1.5.0->optuna) (4.12.2)\n",
            "Requirement already satisfied: python-dateutil in /usr/local/lib/python3.10/dist-packages (from dateparser>=1.0.0->vital-sqi) (2.8.2)\n",
            "Requirement already satisfied: pytz in /usr/local/lib/python3.10/dist-packages (from dateparser>=1.0.0->vital-sqi) (2024.1)\n",
            "Requirement already satisfied: regex!=2019.02.19,!=2021.8.27 in /usr/local/lib/python3.10/dist-packages (from dateparser>=1.0.0->vital-sqi) (2024.5.15)\n",
            "Requirement already satisfied: tzlocal in /usr/local/lib/python3.10/dist-packages (from dateparser>=1.0.0->vital-sqi) (5.2)\n",
            "Requirement already satisfied: typepy<2,>=1.3.2 in /usr/local/lib/python3.10/dist-packages (from typepy[datetime]<2,>=1.3.2->datetimerange>=1.0.0->vital-sqi) (1.3.2)\n",
            "Requirement already satisfied: astropy>=3.0.4 in /usr/local/lib/python3.10/dist-packages (from hrv-analysis>=1.0.3->vital-sqi) (6.1.3)\n",
            "Requirement already satisfied: nolds>=0.4.1 in /usr/local/lib/python3.10/dist-packages (from hrv-analysis>=1.0.3->vital-sqi) (0.6.0)\n",
            "Requirement already satisfied: audioread>=2.1.9 in /usr/local/lib/python3.10/dist-packages (from librosa>=0.9.2->vital-sqi) (3.0.1)\n",
            "Requirement already satisfied: joblib>=0.14 in /usr/local/lib/python3.10/dist-packages (from librosa>=0.9.2->vital-sqi) (1.4.2)\n",
            "Requirement already satisfied: decorator>=4.3.0 in /usr/local/lib/python3.10/dist-packages (from librosa>=0.9.2->vital-sqi) (4.4.2)\n",
            "Requirement already satisfied: numba>=0.51.0 in /usr/local/lib/python3.10/dist-packages (from librosa>=0.9.2->vital-sqi) (0.60.0)\n",
            "Requirement already satisfied: soundfile>=0.12.1 in /usr/local/lib/python3.10/dist-packages (from librosa>=0.9.2->vital-sqi) (0.12.1)\n",
            "Requirement already satisfied: pooch>=1.1 in /usr/local/lib/python3.10/dist-packages (from librosa>=0.9.2->vital-sqi) (1.8.2)\n",
            "Requirement already satisfied: soxr>=0.3.2 in /usr/local/lib/python3.10/dist-packages (from librosa>=0.9.2->vital-sqi) (0.5.0)\n",
            "Requirement already satisfied: lazy-loader>=0.1 in /usr/local/lib/python3.10/dist-packages (from librosa>=0.9.2->vital-sqi) (0.4)\n",
            "Requirement already satisfied: msgpack>=1.0 in /usr/local/lib/python3.10/dist-packages (from librosa>=0.9.2->vital-sqi) (1.0.8)\n",
            "Requirement already satisfied: contourpy>=1.0.1 in /usr/local/lib/python3.10/dist-packages (from matplotlib>=3.3.3->vital-sqi) (1.2.1)\n",
            "Requirement already satisfied: cycler>=0.10 in /usr/local/lib/python3.10/dist-packages (from matplotlib>=3.3.3->vital-sqi) (0.12.1)\n",
            "Requirement already satisfied: fonttools>=4.22.0 in /usr/local/lib/python3.10/dist-packages (from matplotlib>=3.3.3->vital-sqi) (4.53.1)\n",
            "Requirement already satisfied: kiwisolver>=1.0.1 in /usr/local/lib/python3.10/dist-packages (from matplotlib>=3.3.3->vital-sqi) (1.4.5)\n",
            "Requirement already satisfied: pillow>=6.2.0 in /usr/local/lib/python3.10/dist-packages (from matplotlib>=3.3.3->vital-sqi) (9.4.0)\n",
            "Requirement already satisfied: pyparsing>=2.3.1 in /usr/local/lib/python3.10/dist-packages (from matplotlib>=3.3.3->vital-sqi) (3.1.4)\n",
            "Requirement already satisfied: et-xmlfile in /usr/local/lib/python3.10/dist-packages (from openpyxl>=3.0.7->vital-sqi) (1.1.0)\n",
            "Requirement already satisfied: tzdata>=2022.1 in /usr/local/lib/python3.10/dist-packages (from pandas>=1.1.5->vital-sqi) (2024.1)\n",
            "Requirement already satisfied: tenacity>=6.2.0 in /usr/local/lib/python3.10/dist-packages (from plotly>=4.14.3->vital-sqi) (9.0.0)\n",
            "Requirement already satisfied: Cython!=0.29.18,!=0.29.31,>=0.29 in /usr/local/lib/python3.10/dist-packages (from pmdarima>=1.8.0->vital-sqi) (3.0.11)\n",
            "Requirement already satisfied: urllib3 in /usr/local/lib/python3.10/dist-packages (from pmdarima>=1.8.0->vital-sqi) (2.0.7)\n",
            "Requirement already satisfied: setuptools!=50.0.0,>=38.6.0 in /usr/local/lib/python3.10/dist-packages (from pmdarima>=1.8.0->vital-sqi) (71.0.4)\n",
            "Requirement already satisfied: gatspy in /usr/local/lib/python3.10/dist-packages (from py-ecg-detectors>=1.0.2->vital-sqi) (0.3)\n",
            "Requirement already satisfied: pathlib2 in /usr/local/lib/python3.10/dist-packages (from py-ecg-detectors>=1.0.2->vital-sqi) (2.3.7.post1)\n",
            "Requirement already satisfied: pywavelets in /usr/local/lib/python3.10/dist-packages (from py-ecg-detectors>=1.0.2->vital-sqi) (1.7.0)\n",
            "Requirement already satisfied: astunparse in /usr/local/lib/python3.10/dist-packages (from pyflowchart>=0.1.3->vital-sqi) (1.6.3)\n",
            "Requirement already satisfied: chardet in /usr/local/lib/python3.10/dist-packages (from pyflowchart>=0.1.3->vital-sqi) (5.2.0)\n",
            "Requirement already satisfied: threadpoolctl>=2.0.0 in /usr/local/lib/python3.10/dist-packages (from scikit-learn>=0.24.1->vital-sqi) (3.5.0)\n",
            "Requirement already satisfied: greenlet!=0.4.17 in /usr/local/lib/python3.10/dist-packages (from sqlalchemy>=1.3.0->optuna) (3.0.3)\n",
            "Requirement already satisfied: patsy>=0.5.6 in /usr/local/lib/python3.10/dist-packages (from statsmodels>=0.12.1->vital-sqi) (0.5.6)\n",
            "Requirement already satisfied: requests>=2.8.1 in /usr/local/lib/python3.10/dist-packages (from wfdb>=3.3.0->vital-sqi) (2.32.3)\n",
            "Requirement already satisfied: pyerfa>=2.0.1.1 in /usr/local/lib/python3.10/dist-packages (from astropy>=3.0.4->hrv-analysis>=1.0.3->vital-sqi) (2.0.1.4)\n",
            "Requirement already satisfied: astropy-iers-data>=0.2024.7.29.0.32.7 in /usr/local/lib/python3.10/dist-packages (from astropy>=3.0.4->hrv-analysis>=1.0.3->vital-sqi) (0.2024.8.26.0.31.57)\n",
            "Requirement already satisfied: future in /usr/local/lib/python3.10/dist-packages (from nolds>=0.4.1->hrv-analysis>=1.0.3->vital-sqi) (1.0.0)\n",
            "Requirement already satisfied: llvmlite<0.44,>=0.43.0dev0 in /usr/local/lib/python3.10/dist-packages (from numba>=0.51.0->librosa>=0.9.2->vital-sqi) (0.43.0)\n",
            "Requirement already satisfied: six in /usr/local/lib/python3.10/dist-packages (from patsy>=0.5.6->statsmodels>=0.12.1->vital-sqi) (1.16.0)\n",
            "Requirement already satisfied: platformdirs>=2.5.0 in /usr/local/lib/python3.10/dist-packages (from pooch>=1.1->librosa>=0.9.2->vital-sqi) (4.2.2)\n",
            "Requirement already satisfied: charset-normalizer<4,>=2 in /usr/local/lib/python3.10/dist-packages (from requests>=2.8.1->wfdb>=3.3.0->vital-sqi) (3.3.2)\n",
            "Requirement already satisfied: idna<4,>=2.5 in /usr/local/lib/python3.10/dist-packages (from requests>=2.8.1->wfdb>=3.3.0->vital-sqi) (3.8)\n",
            "Requirement already satisfied: certifi>=2017.4.17 in /usr/local/lib/python3.10/dist-packages (from requests>=2.8.1->wfdb>=3.3.0->vital-sqi) (2024.7.4)\n",
            "Requirement already satisfied: cffi>=1.0 in /usr/local/lib/python3.10/dist-packages (from soundfile>=0.12.1->librosa>=0.9.2->vital-sqi) (1.17.0)\n",
            "Requirement already satisfied: mbstrdecoder<2,>=1.0.0 in /usr/local/lib/python3.10/dist-packages (from typepy<2,>=1.3.2->typepy[datetime]<2,>=1.3.2->datetimerange>=1.0.0->vital-sqi) (1.1.3)\n",
            "Requirement already satisfied: wheel<1.0,>=0.23.0 in /usr/local/lib/python3.10/dist-packages (from astunparse->pyflowchart>=0.1.3->vital-sqi) (0.44.0)\n",
            "Requirement already satisfied: MarkupSafe>=0.9.2 in /usr/local/lib/python3.10/dist-packages (from Mako->alembic>=1.5.0->optuna) (2.1.5)\n",
            "Requirement already satisfied: pycparser in /usr/local/lib/python3.10/dist-packages (from cffi>=1.0->soundfile>=0.12.1->librosa>=0.9.2->vital-sqi) (2.22)\n"
          ]
        }
      ],
      "source": [
        "#何をしている？？一応回った　確認する\n",
        "!pip install optuna vital-sqi\n"
      ]
    },
    {
      "cell_type": "code",
      "source": [
        "import numpy as np\n",
        "import pandas as pd\n",
        "\n",
        "# サンプルデータを作成\n",
        "np.random.seed(0)\n",
        "n_samples = 1000\n",
        "time = np.linspace(0, 10, n_samples)\n",
        "ecg_data = np.sin(2 * np.pi * 1 * time) + np.random.normal(0, 0.1, n_samples)\n",
        "\n",
        "# DataFrame に変換\n",
        "df = pd.DataFrame({'time': time, 'ecg': ecg_data})\n",
        "\n",
        "# CSV ファイルに保存\n",
        "data_file = 'sample_ecg_data.csv'\n",
        "df.to_csv(data_file, index=False)\n"
      ],
      "metadata": {
        "id": "qjoyW2MANWnc"
      },
      "execution_count": 11,
      "outputs": []
    },
    {
      "cell_type": "code",
      "source": [
        "import numpy as np\n",
        "import pandas as pd\n",
        "\n",
        "# サンプルデータを作成\n",
        "np.random.seed(0)\n",
        "n_samples = 1000\n",
        "time = np.linspace(0, 10, n_samples)\n",
        "ecg_data = np.sin(2 * np.pi * 1 * time) + np.random.normal(0, 0.1, n_samples)\n",
        "\n",
        "# DataFrame に変換\n",
        "df = pd.DataFrame({'time': time, 'ecg': ecg_data})\n",
        "\n",
        "# CSV ファイルに保存\n",
        "data_file = 'sample_ecg_data.csv'\n",
        "df.to_csv(data_file, index=False)\n"
      ],
      "metadata": {
        "id": "7mfp5XQ6NeTy"
      },
      "execution_count": 12,
      "outputs": []
    },
    {
      "cell_type": "code",
      "source": [
        "import optuna\n",
        "import numpy as np\n",
        "import pandas as pd\n",
        "import json\n",
        "!pip from vital_sqi.pipeline.pipeline_highlevel import get_qualified_ecg\n",
        "!pip from vital_sqi.data.signal_sqi_class import SignalSQI\n",
        "import tempfile\n",
        "\n",
        "# サンプルデータファイル\n",
        "data_file = 'sample_ecg_data.csv'\n",
        "sqi_dict_file = 'sqi_dict.json'\n",
        "rule_dict_file = 'rule_dict_test.json'\n",
        "\n",
        "# 仮の SQI 辞書とルール辞書の作成\n",
        "sqi_dict = {\n",
        "    \"sqi1\": {\"name\": \"sqi1\", \"desc\": \"\", \"ref\": \"\"},\n",
        "}\n",
        "\n",
        "rule_dict = {\n",
        "    \"sqi1\": {\n",
        "        \"name\": \"sqi1\",\n",
        "        \"def\": [\n",
        "            {\"op\": \">\", \"value\": \"0.5\", \"label\": \"reject\"},\n",
        "            {\"op\": \"<=\", \"value\": \"0.5\", \"label\": \"accept\"}\n",
        "        ],\n",
        "        \"desc\": \"\",\n",
        "        \"ref\": \"\"\n",
        "    }\n",
        "}\n",
        "\n",
        "# SQI 辞書をファイルに保存\n",
        "with open(sqi_dict_file, 'w') as f:\n",
        "    json.dump(sqi_dict, f)\n",
        "\n",
        "# ルール辞書をファイルに保存\n",
        "with open(rule_dict_file, 'w') as f:\n",
        "    json.dump(rule_dict, f)\n",
        "\n",
        "# 目的関数の定義\n",
        "def objective(trial):\n",
        "    # ハイパーパラメータをサンプル\n",
        "    param1 = trial.suggest_float('param1', 0.0, 1.0)  # 仮のパラメータ\n",
        "    param2 = trial.suggest_int('param2', 1, 10)      # 仮のパラメータ\n",
        "\n",
        "    # SQI抽出と分類\n",
        "    rule_dict_file_temp = tempfile.NamedTemporaryFile(delete=False, suffix='.json')\n",
        "    with open(rule_dict_file_temp.name, 'w') as f:\n",
        "        json.dump(rule_dict, f)\n",
        "\n",
        "    output_dir = tempfile.gettempdir()\n",
        "\n",
        "    # SQI抽出\n",
        "    signal_obj = get_qualified_ecg(\n",
        "        file_name=data_file,\n",
        "        sqi_dict_filename=sqi_dict_file,\n",
        "        file_type='csv',\n",
        "        duration=30,\n",
        "        rule_dict_filename=rule_dict_file_temp.name,\n",
        "        ruleset_order={1: 'sqi1'},\n",
        "        output_dir=output_dir\n",
        "    )\n",
        "\n",
        "    # 仮の評価関数\n",
        "    # 実際には、SQIの計算や評価を行う\n",
        "    # ここではランダムな精度値を返す\n",
        "    accuracy = np.random.rand()  # 仮の精度値\n",
        "    return accuracy\n",
        "\n",
        "# OptunaのStudyを作成して最適化を実行\n",
        "study = optuna.create_study(direction='maximize')\n",
        "study.optimize(objective, n_trials=10)\n",
        "\n",
        "# 最適なハイパーパラメータを取得\n",
        "best_params = study.best_params\n",
        "print(f\"Best parameters: {best_params}\")\n",
        "\n",
        "# 最適なパラメータでの評価\n",
        "best_accuracy = objective(optuna.trial.FixedTrial(best_params))\n",
        "print(f\"Best accuracy with parameters {best_params}: {best_accuracy}\")\n"
      ],
      "metadata": {
        "colab": {
          "base_uri": "https://localhost:8080/",
          "height": 567
        },
        "id": "cHnjdaQZNi6p",
        "outputId": "79e229c3-6508-4b24-c861-34081e18e783"
      },
      "execution_count": 13,
      "outputs": [
        {
          "output_type": "stream",
          "name": "stdout",
          "text": [
            "ERROR: unknown command \"from\"\n",
            "ERROR: unknown command \"from\"\n"
          ]
        },
        {
          "output_type": "stream",
          "name": "stderr",
          "text": [
            "[I 2024-09-03 04:52:31,418] A new study created in memory with name: no-name-2e09b0f2-6917-403e-a083-c24334077a86\n",
            "[W 2024-09-03 04:52:31,426] Trial 0 failed with parameters: {'param1': 0.6056588388963661, 'param2': 7} because of the following error: NameError(\"name 'get_qualified_ecg' is not defined\").\n",
            "Traceback (most recent call last):\n",
            "  File \"/usr/local/lib/python3.10/dist-packages/optuna/study/_optimize.py\", line 197, in _run_trial\n",
            "    value_or_values = func(trial)\n",
            "  File \"<ipython-input-13-9f93f75e0305>\", line 53, in objective\n",
            "    signal_obj = get_qualified_ecg(\n",
            "NameError: name 'get_qualified_ecg' is not defined\n",
            "[W 2024-09-03 04:52:31,430] Trial 0 failed with value None.\n"
          ]
        },
        {
          "output_type": "error",
          "ename": "NameError",
          "evalue": "name 'get_qualified_ecg' is not defined",
          "traceback": [
            "\u001b[0;31m---------------------------------------------------------------------------\u001b[0m",
            "\u001b[0;31mNameError\u001b[0m                                 Traceback (most recent call last)",
            "\u001b[0;32m<ipython-input-13-9f93f75e0305>\u001b[0m in \u001b[0;36m<cell line: 71>\u001b[0;34m()\u001b[0m\n\u001b[1;32m     69\u001b[0m \u001b[0;31m# OptunaのStudyを作成して最適化を実行\u001b[0m\u001b[0;34m\u001b[0m\u001b[0;34m\u001b[0m\u001b[0m\n\u001b[1;32m     70\u001b[0m \u001b[0mstudy\u001b[0m \u001b[0;34m=\u001b[0m \u001b[0moptuna\u001b[0m\u001b[0;34m.\u001b[0m\u001b[0mcreate_study\u001b[0m\u001b[0;34m(\u001b[0m\u001b[0mdirection\u001b[0m\u001b[0;34m=\u001b[0m\u001b[0;34m'maximize'\u001b[0m\u001b[0;34m)\u001b[0m\u001b[0;34m\u001b[0m\u001b[0;34m\u001b[0m\u001b[0m\n\u001b[0;32m---> 71\u001b[0;31m \u001b[0mstudy\u001b[0m\u001b[0;34m.\u001b[0m\u001b[0moptimize\u001b[0m\u001b[0;34m(\u001b[0m\u001b[0mobjective\u001b[0m\u001b[0;34m,\u001b[0m \u001b[0mn_trials\u001b[0m\u001b[0;34m=\u001b[0m\u001b[0;36m10\u001b[0m\u001b[0;34m)\u001b[0m\u001b[0;34m\u001b[0m\u001b[0;34m\u001b[0m\u001b[0m\n\u001b[0m\u001b[1;32m     72\u001b[0m \u001b[0;34m\u001b[0m\u001b[0m\n\u001b[1;32m     73\u001b[0m \u001b[0;31m# 最適なハイパーパラメータを取得\u001b[0m\u001b[0;34m\u001b[0m\u001b[0;34m\u001b[0m\u001b[0m\n",
            "\u001b[0;32m/usr/local/lib/python3.10/dist-packages/optuna/study/study.py\u001b[0m in \u001b[0;36moptimize\u001b[0;34m(self, func, n_trials, timeout, n_jobs, catch, callbacks, gc_after_trial, show_progress_bar)\u001b[0m\n\u001b[1;32m    473\u001b[0m                 \u001b[0mIf\u001b[0m \u001b[0mnested\u001b[0m \u001b[0minvocation\u001b[0m \u001b[0mof\u001b[0m \u001b[0mthis\u001b[0m \u001b[0mmethod\u001b[0m \u001b[0moccurs\u001b[0m\u001b[0;34m.\u001b[0m\u001b[0;34m\u001b[0m\u001b[0;34m\u001b[0m\u001b[0m\n\u001b[1;32m    474\u001b[0m         \"\"\"\n\u001b[0;32m--> 475\u001b[0;31m         _optimize(\n\u001b[0m\u001b[1;32m    476\u001b[0m             \u001b[0mstudy\u001b[0m\u001b[0;34m=\u001b[0m\u001b[0mself\u001b[0m\u001b[0;34m,\u001b[0m\u001b[0;34m\u001b[0m\u001b[0;34m\u001b[0m\u001b[0m\n\u001b[1;32m    477\u001b[0m             \u001b[0mfunc\u001b[0m\u001b[0;34m=\u001b[0m\u001b[0mfunc\u001b[0m\u001b[0;34m,\u001b[0m\u001b[0;34m\u001b[0m\u001b[0;34m\u001b[0m\u001b[0m\n",
            "\u001b[0;32m/usr/local/lib/python3.10/dist-packages/optuna/study/_optimize.py\u001b[0m in \u001b[0;36m_optimize\u001b[0;34m(study, func, n_trials, timeout, n_jobs, catch, callbacks, gc_after_trial, show_progress_bar)\u001b[0m\n\u001b[1;32m     61\u001b[0m     \u001b[0;32mtry\u001b[0m\u001b[0;34m:\u001b[0m\u001b[0;34m\u001b[0m\u001b[0;34m\u001b[0m\u001b[0m\n\u001b[1;32m     62\u001b[0m         \u001b[0;32mif\u001b[0m \u001b[0mn_jobs\u001b[0m \u001b[0;34m==\u001b[0m \u001b[0;36m1\u001b[0m\u001b[0;34m:\u001b[0m\u001b[0;34m\u001b[0m\u001b[0;34m\u001b[0m\u001b[0m\n\u001b[0;32m---> 63\u001b[0;31m             _optimize_sequential(\n\u001b[0m\u001b[1;32m     64\u001b[0m                 \u001b[0mstudy\u001b[0m\u001b[0;34m,\u001b[0m\u001b[0;34m\u001b[0m\u001b[0;34m\u001b[0m\u001b[0m\n\u001b[1;32m     65\u001b[0m                 \u001b[0mfunc\u001b[0m\u001b[0;34m,\u001b[0m\u001b[0;34m\u001b[0m\u001b[0;34m\u001b[0m\u001b[0m\n",
            "\u001b[0;32m/usr/local/lib/python3.10/dist-packages/optuna/study/_optimize.py\u001b[0m in \u001b[0;36m_optimize_sequential\u001b[0;34m(study, func, n_trials, timeout, catch, callbacks, gc_after_trial, reseed_sampler_rng, time_start, progress_bar)\u001b[0m\n\u001b[1;32m    158\u001b[0m \u001b[0;34m\u001b[0m\u001b[0m\n\u001b[1;32m    159\u001b[0m         \u001b[0;32mtry\u001b[0m\u001b[0;34m:\u001b[0m\u001b[0;34m\u001b[0m\u001b[0;34m\u001b[0m\u001b[0m\n\u001b[0;32m--> 160\u001b[0;31m             \u001b[0mfrozen_trial\u001b[0m \u001b[0;34m=\u001b[0m \u001b[0m_run_trial\u001b[0m\u001b[0;34m(\u001b[0m\u001b[0mstudy\u001b[0m\u001b[0;34m,\u001b[0m \u001b[0mfunc\u001b[0m\u001b[0;34m,\u001b[0m \u001b[0mcatch\u001b[0m\u001b[0;34m)\u001b[0m\u001b[0;34m\u001b[0m\u001b[0;34m\u001b[0m\u001b[0m\n\u001b[0m\u001b[1;32m    161\u001b[0m         \u001b[0;32mfinally\u001b[0m\u001b[0;34m:\u001b[0m\u001b[0;34m\u001b[0m\u001b[0;34m\u001b[0m\u001b[0m\n\u001b[1;32m    162\u001b[0m             \u001b[0;31m# The following line mitigates memory problems that can be occurred in some\u001b[0m\u001b[0;34m\u001b[0m\u001b[0;34m\u001b[0m\u001b[0m\n",
            "\u001b[0;32m/usr/local/lib/python3.10/dist-packages/optuna/study/_optimize.py\u001b[0m in \u001b[0;36m_run_trial\u001b[0;34m(study, func, catch)\u001b[0m\n\u001b[1;32m    246\u001b[0m         \u001b[0;32mand\u001b[0m \u001b[0;32mnot\u001b[0m \u001b[0misinstance\u001b[0m\u001b[0;34m(\u001b[0m\u001b[0mfunc_err\u001b[0m\u001b[0;34m,\u001b[0m \u001b[0mcatch\u001b[0m\u001b[0;34m)\u001b[0m\u001b[0;34m\u001b[0m\u001b[0;34m\u001b[0m\u001b[0m\n\u001b[1;32m    247\u001b[0m     ):\n\u001b[0;32m--> 248\u001b[0;31m         \u001b[0;32mraise\u001b[0m \u001b[0mfunc_err\u001b[0m\u001b[0;34m\u001b[0m\u001b[0;34m\u001b[0m\u001b[0m\n\u001b[0m\u001b[1;32m    249\u001b[0m     \u001b[0;32mreturn\u001b[0m \u001b[0mfrozen_trial\u001b[0m\u001b[0;34m\u001b[0m\u001b[0;34m\u001b[0m\u001b[0m\n\u001b[1;32m    250\u001b[0m \u001b[0;34m\u001b[0m\u001b[0m\n",
            "\u001b[0;32m/usr/local/lib/python3.10/dist-packages/optuna/study/_optimize.py\u001b[0m in \u001b[0;36m_run_trial\u001b[0;34m(study, func, catch)\u001b[0m\n\u001b[1;32m    195\u001b[0m     \u001b[0;32mwith\u001b[0m \u001b[0mget_heartbeat_thread\u001b[0m\u001b[0;34m(\u001b[0m\u001b[0mtrial\u001b[0m\u001b[0;34m.\u001b[0m\u001b[0m_trial_id\u001b[0m\u001b[0;34m,\u001b[0m \u001b[0mstudy\u001b[0m\u001b[0;34m.\u001b[0m\u001b[0m_storage\u001b[0m\u001b[0;34m)\u001b[0m\u001b[0;34m:\u001b[0m\u001b[0;34m\u001b[0m\u001b[0;34m\u001b[0m\u001b[0m\n\u001b[1;32m    196\u001b[0m         \u001b[0;32mtry\u001b[0m\u001b[0;34m:\u001b[0m\u001b[0;34m\u001b[0m\u001b[0;34m\u001b[0m\u001b[0m\n\u001b[0;32m--> 197\u001b[0;31m             \u001b[0mvalue_or_values\u001b[0m \u001b[0;34m=\u001b[0m \u001b[0mfunc\u001b[0m\u001b[0;34m(\u001b[0m\u001b[0mtrial\u001b[0m\u001b[0;34m)\u001b[0m\u001b[0;34m\u001b[0m\u001b[0;34m\u001b[0m\u001b[0m\n\u001b[0m\u001b[1;32m    198\u001b[0m         \u001b[0;32mexcept\u001b[0m \u001b[0mexceptions\u001b[0m\u001b[0;34m.\u001b[0m\u001b[0mTrialPruned\u001b[0m \u001b[0;32mas\u001b[0m \u001b[0me\u001b[0m\u001b[0;34m:\u001b[0m\u001b[0;34m\u001b[0m\u001b[0;34m\u001b[0m\u001b[0m\n\u001b[1;32m    199\u001b[0m             \u001b[0;31m# TODO(mamu): Handle multi-objective cases.\u001b[0m\u001b[0;34m\u001b[0m\u001b[0;34m\u001b[0m\u001b[0m\n",
            "\u001b[0;32m<ipython-input-13-9f93f75e0305>\u001b[0m in \u001b[0;36mobjective\u001b[0;34m(trial)\u001b[0m\n\u001b[1;32m     51\u001b[0m \u001b[0;34m\u001b[0m\u001b[0m\n\u001b[1;32m     52\u001b[0m     \u001b[0;31m# SQI抽出\u001b[0m\u001b[0;34m\u001b[0m\u001b[0;34m\u001b[0m\u001b[0m\n\u001b[0;32m---> 53\u001b[0;31m     signal_obj = get_qualified_ecg(\n\u001b[0m\u001b[1;32m     54\u001b[0m         \u001b[0mfile_name\u001b[0m\u001b[0;34m=\u001b[0m\u001b[0mdata_file\u001b[0m\u001b[0;34m,\u001b[0m\u001b[0;34m\u001b[0m\u001b[0;34m\u001b[0m\u001b[0m\n\u001b[1;32m     55\u001b[0m         \u001b[0msqi_dict_filename\u001b[0m\u001b[0;34m=\u001b[0m\u001b[0msqi_dict_file\u001b[0m\u001b[0;34m,\u001b[0m\u001b[0;34m\u001b[0m\u001b[0;34m\u001b[0m\u001b[0m\n",
            "\u001b[0;31mNameError\u001b[0m: name 'get_qualified_ecg' is not defined"
          ]
        }
      ]
    },
    {
      "cell_type": "code",
      "source": [
        "import optuna\n",
        "import numpy as np\n",
        "import pandas as pd\n",
        "import json\n",
        "!pip from vital_sqi.pipeline.pipeline_highlevel import get_ecg_sqis  # 例: get_qualified_ecg -> get_ecg_sqis に修正\n",
        "!pip from vital_sqi.data.signal_sqi_class import SignalSQI\n",
        "import tempfile\n",
        "\n",
        "# サンプルデータファイル\n",
        "data_file = 'sample_ecg_data.csv'\n",
        "sqi_dict_file = 'sqi_dict.json'\n",
        "rule_dict_file = 'rule_dict_test.json'\n",
        "\n",
        "# 仮の SQI 辞書とルール辞書の作成\n",
        "sqi_dict = {\n",
        "    \"sqi1\": {\"name\": \"sqi1\", \"desc\": \"\", \"ref\": \"\"},\n",
        "}\n",
        "\n",
        "rule_dict = {\n",
        "    \"sqi1\": {\n",
        "        \"name\": \"sqi1\",\n",
        "        \"def\": [\n",
        "            {\"op\": \">\", \"value\": \"0.5\", \"label\": \"reject\"},\n",
        "            {\"op\": \"<=\", \"value\": \"0.5\", \"label\": \"accept\"}\n",
        "        ],\n",
        "        \"desc\": \"\",\n",
        "        \"ref\": \"\"\n",
        "    }\n",
        "}\n",
        "\n",
        "# SQI 辞書をファイルに保存\n",
        "with open(sqi_dict_file, 'w') as f:\n",
        "    json.dump(sqi_dict, f)\n",
        "\n",
        "# ルール辞書をファイルに保存\n",
        "with open(rule_dict_file, 'w') as f:\n",
        "    json.dump(rule_dict, f)\n",
        "\n",
        "# 仮のSQI抽出関数\n",
        "def extract_sqi(file_path):\n",
        "    # 仮のSQI抽出処理を実装\n",
        "    # 実際の処理では vital_sqi の関数を使用する\n",
        "    sqi_values = np.random.rand(len(df))  # 仮のSQI値\n",
        "    return sqi_values\n",
        "\n",
        "# 目的関数の定義\n",
        "def objective(trial):\n",
        "    # ハイパーパラメータをサンプル\n",
        "    param1 = trial.suggest_float('param1', 0.0, 1.0)  # 仮のパラメータ\n",
        "    param2 = trial.suggest_int('param2', 1, 10)      # 仮のパラメータ\n",
        "\n",
        "    # SQI抽出\n",
        "    sqi_values = extract_sqi(data_file)\n",
        "\n",
        "    # 閾値に基づく評価（ここでは単純な例として使用）\n",
        "    accuracy = np.mean(sqi_values > param1)  # 仮の精度評価\n",
        "    return accuracy\n",
        "\n",
        "# OptunaのStudyを作成して最適化を実行\n",
        "study = optuna.create_study(direction='maximize')\n",
        "study.optimize(objective, n_trials=10)\n",
        "\n",
        "# 最適なハイパーパラメータを取得\n",
        "best_params = study.best_params\n",
        "print(f\"Best parameters: {best_params}\")\n",
        "\n",
        "# 最適なパラメータでの評価\n",
        "best_accuracy = objective(optuna.trial.FixedTrial(best_params))\n",
        "print(f\"Best accuracy with parameters {best_params}: {best_accuracy}\")\n"
      ],
      "metadata": {
        "colab": {
          "base_uri": "https://localhost:8080/"
        },
        "id": "ZCQEe6WEO8dj",
        "outputId": "8b839bd3-c9a4-4e06-bee7-0da11b0b91db"
      },
      "execution_count": 15,
      "outputs": [
        {
          "output_type": "stream",
          "name": "stdout",
          "text": [
            "ERROR: unknown command \"from\"\n",
            "ERROR: unknown command \"from\"\n"
          ]
        },
        {
          "output_type": "stream",
          "name": "stderr",
          "text": [
            "[I 2024-09-03 04:54:53,384] A new study created in memory with name: no-name-7076a288-dcac-4176-a2c9-d34ebdc23e1e\n",
            "[I 2024-09-03 04:54:53,391] Trial 0 finished with value: 0.81 and parameters: {'param1': 0.19508600282042998, 'param2': 9}. Best is trial 0 with value: 0.81.\n",
            "[I 2024-09-03 04:54:53,394] Trial 1 finished with value: 0.665 and parameters: {'param1': 0.3344280190321828, 'param2': 8}. Best is trial 0 with value: 0.81.\n",
            "[I 2024-09-03 04:54:53,397] Trial 2 finished with value: 0.826 and parameters: {'param1': 0.17241091516487228, 'param2': 2}. Best is trial 2 with value: 0.826.\n",
            "[I 2024-09-03 04:54:53,402] Trial 3 finished with value: 0.729 and parameters: {'param1': 0.2588412804686381, 'param2': 4}. Best is trial 2 with value: 0.826.\n",
            "[I 2024-09-03 04:54:53,529] Trial 4 finished with value: 0.436 and parameters: {'param1': 0.5753758445311729, 'param2': 8}. Best is trial 2 with value: 0.826.\n",
            "[I 2024-09-03 04:54:53,531] Trial 5 finished with value: 0.232 and parameters: {'param1': 0.7498756480203742, 'param2': 1}. Best is trial 2 with value: 0.826.\n",
            "[I 2024-09-03 04:54:53,534] Trial 6 finished with value: 0.452 and parameters: {'param1': 0.5360438604856215, 'param2': 10}. Best is trial 2 with value: 0.826.\n",
            "[I 2024-09-03 04:54:53,536] Trial 7 finished with value: 0.495 and parameters: {'param1': 0.5017782016601524, 'param2': 4}. Best is trial 2 with value: 0.826.\n",
            "[I 2024-09-03 04:54:53,539] Trial 8 finished with value: 0.377 and parameters: {'param1': 0.6100738127428984, 'param2': 8}. Best is trial 2 with value: 0.826.\n",
            "[I 2024-09-03 04:54:53,545] Trial 9 finished with value: 0.582 and parameters: {'param1': 0.41586394972230645, 'param2': 2}. Best is trial 2 with value: 0.826.\n"
          ]
        },
        {
          "output_type": "stream",
          "name": "stdout",
          "text": [
            "Best parameters: {'param1': 0.17241091516487228, 'param2': 2}\n",
            "Best accuracy with parameters {'param1': 0.17241091516487228, 'param2': 2}: 0.814\n"
          ]
        }
      ]
    }
  ]
}